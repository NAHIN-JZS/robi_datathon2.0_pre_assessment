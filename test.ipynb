{
  "cells": [
    {
      "cell_type": "code",
      "source": [
        "from google.colab import drive\n",
        "drive.mount('/content/gdrive')"
      ],
      "metadata": {
        "id": "UrfGKLz7hoJL",
        "colab": {
          "base_uri": "https://localhost:8080/"
        },
        "outputId": "c8ae5d98-542c-413c-bc03-c72a1dd7f2ae"
      },
      "execution_count": null,
      "outputs": [
        {
          "output_type": "stream",
          "name": "stdout",
          "text": [
            "Drive already mounted at /content/gdrive; to attempt to forcibly remount, call drive.mount(\"/content/gdrive\", force_remount=True).\n"
          ]
        }
      ]
    },
    {
      "cell_type": "code",
      "source": [
        "cd \"/content/gdrive/MyDrive/robi-datathon-2-pre-assessment\""
      ],
      "metadata": {
        "colab": {
          "base_uri": "https://localhost:8080/"
        },
        "id": "c5MGMmPOinuq",
        "outputId": "c5198e17-5d97-4e0b-e10d-d3ee5c1200f4"
      },
      "execution_count": null,
      "outputs": [
        {
          "output_type": "stream",
          "name": "stdout",
          "text": [
            "/content/gdrive/MyDrive/Datathon/robi-datathon-2-pre-assessment\n"
          ]
        }
      ]
    },
    {
      "cell_type": "markdown",
      "source": [
        "Importing dataset\n"
      ],
      "metadata": {
        "id": "KJ82Retl0-Xq"
      }
    },
    {
      "cell_type": "code",
      "execution_count": null,
      "metadata": {
        "id": "18nJHI0mhnOm"
      },
      "outputs": [],
      "source": [
        "import numpy as np\n",
        "import pandas as pd\n",
        "import matplotlib.pyplot as plt \n",
        "from sklearn.model_selection import train_test_split"
      ]
    },
    {
      "cell_type": "code",
      "execution_count": null,
      "metadata": {
        "id": "GkjsruS_hnOq"
      },
      "outputs": [],
      "source": [
        "data_train = pd.read_csv('train.csv')\n",
        "data_test = pd.read_csv('test.csv')"
      ]
    },
    {
      "cell_type": "markdown",
      "source": [
        "Converting corrupted data"
      ],
      "metadata": {
        "id": "_NKZnUxN04Tp"
      }
    },
    {
      "cell_type": "code",
      "source": [
        "data_train['s69'] = data_train['s69'].str.replace('~1','a')\n",
        "data_train['s69'] = data_train['s69'].str.replace('x','b')\n",
        "\n",
        "counts = data_train['s69'].value_counts()\n",
        "print(counts)\n",
        "mask = data_train['s69'].isin(counts[counts < 2000].index)\n",
        "data_train['s69'][mask] ='Other'\n",
        "print(pd.value_counts(data_train['s69']))"
      ],
      "metadata": {
        "colab": {
          "base_uri": "https://localhost:8080/"
        },
        "id": "L8I0oy_VGKJl",
        "outputId": "1fe100de-fee9-48ea-ce6d-da154e507f12"
      },
      "execution_count": null,
      "outputs": [
        {
          "output_type": "stream",
          "name": "stdout",
          "text": [
            "b     21028\n",
            "a      6446\n",
            "C`      540\n",
            "0       308\n",
            "Name: s69, dtype: int64\n",
            "b        21028\n",
            "a         6446\n",
            "Other      848\n",
            "Name: s69, dtype: int64\n"
          ]
        },
        {
          "output_type": "stream",
          "name": "stderr",
          "text": [
            "/usr/local/lib/python3.7/dist-packages/ipykernel_launcher.py:7: SettingWithCopyWarning: \n",
            "A value is trying to be set on a copy of a slice from a DataFrame\n",
            "\n",
            "See the caveats in the documentation: https://pandas.pydata.org/pandas-docs/stable/user_guide/indexing.html#returning-a-view-versus-a-copy\n",
            "  import sys\n"
          ]
        }
      ]
    },
    {
      "cell_type": "code",
      "source": [
        "data_test['s69'] = data_test['s69'].str.replace('~1','a')\n",
        "data_test['s69'] = data_test['s69'].str.replace('x','b')\n",
        "\n",
        "counts = data_test['s69'].value_counts()\n",
        "print(counts)\n",
        "mask = data_test['s69'].isin(counts[counts < 2000].index)\n",
        "data_test['s69'][mask] ='Other'\n",
        "print(pd.value_counts(data_test['s69']))"
      ],
      "metadata": {
        "colab": {
          "base_uri": "https://localhost:8080/"
        },
        "id": "8Dfho4cgRX86",
        "outputId": "a440c22f-bf7d-4046-c008-4016f79b2cdc"
      },
      "execution_count": null,
      "outputs": [
        {
          "output_type": "stream",
          "name": "stdout",
          "text": [
            "b     44816\n",
            "a     37953\n",
            "C`     1483\n",
            "0       813\n",
            "Name: s69, dtype: int64\n",
            "b        44816\n",
            "a        37953\n",
            "Other     2296\n",
            "Name: s69, dtype: int64\n"
          ]
        },
        {
          "output_type": "stream",
          "name": "stderr",
          "text": [
            "/usr/local/lib/python3.7/dist-packages/ipykernel_launcher.py:7: SettingWithCopyWarning: \n",
            "A value is trying to be set on a copy of a slice from a DataFrame\n",
            "\n",
            "See the caveats in the documentation: https://pandas.pydata.org/pandas-docs/stable/user_guide/indexing.html#returning-a-view-versus-a-copy\n",
            "  import sys\n"
          ]
        }
      ]
    },
    {
      "cell_type": "code",
      "source": [
        "counts = data_train['s16'].value_counts()\n",
        "print(counts)\n",
        "mask = data_train['s16'].isin(counts[counts < 2000].index)\n",
        "data_train['s16'][mask] ='Other'\n",
        "print(pd.value_counts(data_train['s16']))"
      ],
      "metadata": {
        "colab": {
          "base_uri": "https://localhost:8080/"
        },
        "id": "nA7iEf3Q7gyQ",
        "outputId": "65efbe12-f999-4549-b5ea-0de1e5bbdada"
      },
      "execution_count": null,
      "outputs": [
        {
          "output_type": "stream",
          "name": "stdout",
          "text": [
            "D    21028\n",
            "B     6446\n",
            "C      540\n",
            "A      308\n",
            "Name: s16, dtype: int64\n",
            "D        21028\n",
            "B         6446\n",
            "Other      848\n",
            "Name: s16, dtype: int64\n"
          ]
        },
        {
          "output_type": "stream",
          "name": "stderr",
          "text": [
            "/usr/local/lib/python3.7/dist-packages/ipykernel_launcher.py:4: SettingWithCopyWarning: \n",
            "A value is trying to be set on a copy of a slice from a DataFrame\n",
            "\n",
            "See the caveats in the documentation: https://pandas.pydata.org/pandas-docs/stable/user_guide/indexing.html#returning-a-view-versus-a-copy\n",
            "  after removing the cwd from sys.path.\n"
          ]
        }
      ]
    },
    {
      "cell_type": "code",
      "source": [
        "counts = data_test['s16'].value_counts()\n",
        "print(counts)\n",
        "mask = data_test['s16'].isin(counts[counts < 2000].index)\n",
        "data_test['s16'][mask] ='Other'\n",
        "print(pd.value_counts(data_test['s16']))"
      ],
      "metadata": {
        "colab": {
          "base_uri": "https://localhost:8080/"
        },
        "id": "TWF9KqTaRk9P",
        "outputId": "442973c6-6a35-42fc-cbe3-1baf5f0c7275"
      },
      "execution_count": null,
      "outputs": [
        {
          "output_type": "stream",
          "name": "stdout",
          "text": [
            "D    44816\n",
            "B    37953\n",
            "C     1483\n",
            "A      813\n",
            "Name: s16, dtype: int64\n",
            "D        44816\n",
            "B        37953\n",
            "Other     2296\n",
            "Name: s16, dtype: int64\n"
          ]
        },
        {
          "output_type": "stream",
          "name": "stderr",
          "text": [
            "/usr/local/lib/python3.7/dist-packages/ipykernel_launcher.py:4: SettingWithCopyWarning: \n",
            "A value is trying to be set on a copy of a slice from a DataFrame\n",
            "\n",
            "See the caveats in the documentation: https://pandas.pydata.org/pandas-docs/stable/user_guide/indexing.html#returning-a-view-versus-a-copy\n",
            "  after removing the cwd from sys.path.\n"
          ]
        }
      ]
    },
    {
      "cell_type": "code",
      "source": [
        "counts = data_train['s18'].value_counts()\n",
        "print(counts)\n",
        "mask = data_train['s18'].isin(counts[counts < 2000].index)\n",
        "data_train['s18'][mask] ='Other'\n",
        "print(pd.value_counts(data_train['s18']))"
      ],
      "metadata": {
        "colab": {
          "base_uri": "https://localhost:8080/"
        },
        "id": "swWm2CXb8pcd",
        "outputId": "c177d564-166f-4e3f-c3f7-7dd98ccbeb4b"
      },
      "execution_count": null,
      "outputs": [
        {
          "output_type": "stream",
          "name": "stdout",
          "text": [
            "B    25010\n",
            "D     1612\n",
            "C     1607\n",
            "A       93\n",
            "Name: s18, dtype: int64\n",
            "B        25010\n",
            "Other     3312\n",
            "Name: s18, dtype: int64\n"
          ]
        },
        {
          "output_type": "stream",
          "name": "stderr",
          "text": [
            "/usr/local/lib/python3.7/dist-packages/ipykernel_launcher.py:4: SettingWithCopyWarning: \n",
            "A value is trying to be set on a copy of a slice from a DataFrame\n",
            "\n",
            "See the caveats in the documentation: https://pandas.pydata.org/pandas-docs/stable/user_guide/indexing.html#returning-a-view-versus-a-copy\n",
            "  after removing the cwd from sys.path.\n"
          ]
        }
      ]
    },
    {
      "cell_type": "code",
      "source": [
        "counts = data_test['s18'].value_counts()\n",
        "print(counts)\n",
        "mask = data_test['s18'].isin(counts[counts < 2000].index)\n",
        "data_test['s18'][mask] ='Other'\n",
        "print(pd.value_counts(data_test['s18']))"
      ],
      "metadata": {
        "colab": {
          "base_uri": "https://localhost:8080/"
        },
        "id": "lpWdVs24Rv5M",
        "outputId": "18b7b7bb-b85a-40ee-ba17-2d7f9597b5c2"
      },
      "execution_count": null,
      "outputs": [
        {
          "output_type": "stream",
          "name": "stdout",
          "text": [
            "B    63811\n",
            "D    11087\n",
            "C     9982\n",
            "A      185\n",
            "Name: s18, dtype: int64\n"
          ]
        },
        {
          "output_type": "stream",
          "name": "stderr",
          "text": [
            "/usr/local/lib/python3.7/dist-packages/ipykernel_launcher.py:4: SettingWithCopyWarning: \n",
            "A value is trying to be set on a copy of a slice from a DataFrame\n",
            "\n",
            "See the caveats in the documentation: https://pandas.pydata.org/pandas-docs/stable/user_guide/indexing.html#returning-a-view-versus-a-copy\n",
            "  after removing the cwd from sys.path.\n"
          ]
        },
        {
          "output_type": "stream",
          "name": "stdout",
          "text": [
            "B        63811\n",
            "D        11087\n",
            "C         9982\n",
            "Other      185\n",
            "Name: s18, dtype: int64\n"
          ]
        }
      ]
    },
    {
      "cell_type": "code",
      "source": [
        "counts = data_train['s52'].value_counts()\n",
        "print(counts)\n",
        "mask = data_train['s52'].isin(counts[counts < 2000].index)\n",
        "data_train['s52'][mask] ='Other'\n",
        "print(pd.value_counts(data_train['s52']))"
      ],
      "metadata": {
        "colab": {
          "base_uri": "https://localhost:8080/"
        },
        "id": "t2_Wdn20fMlX",
        "outputId": "44478e3d-7f7c-49df-d838-401d1a1e9cb4"
      },
      "execution_count": null,
      "outputs": [
        {
          "output_type": "stream",
          "name": "stdout",
          "text": [
            "1    20524\n",
            "l     6508\n",
            "0     1094\n",
            "o      196\n",
            "Name: s52, dtype: int64\n",
            "1        20524\n",
            "l         6508\n",
            "Other     1290\n",
            "Name: s52, dtype: int64\n"
          ]
        },
        {
          "output_type": "stream",
          "name": "stderr",
          "text": [
            "/usr/local/lib/python3.7/dist-packages/ipykernel_launcher.py:4: SettingWithCopyWarning: \n",
            "A value is trying to be set on a copy of a slice from a DataFrame\n",
            "\n",
            "See the caveats in the documentation: https://pandas.pydata.org/pandas-docs/stable/user_guide/indexing.html#returning-a-view-versus-a-copy\n",
            "  after removing the cwd from sys.path.\n"
          ]
        }
      ]
    },
    {
      "cell_type": "code",
      "source": [
        "counts = data_test['s52'].value_counts()\n",
        "print(counts)\n",
        "mask = data_test['s52'].isin(counts[counts < 2000].index)\n",
        "data_test['s52'][mask] ='Other'\n",
        "print(pd.value_counts(data_test['s52']))"
      ],
      "metadata": {
        "colab": {
          "base_uri": "https://localhost:8080/"
        },
        "id": "1G3QlyLefMG-",
        "outputId": "acc63c2d-6caa-4eaa-9ca4-d7523103080a"
      },
      "execution_count": null,
      "outputs": [
        {
          "output_type": "stream",
          "name": "stdout",
          "text": [
            "1    45569\n",
            "l    36056\n",
            "0     2811\n",
            "o      629\n",
            "Name: s52, dtype: int64\n",
            "1        45569\n",
            "l        36056\n",
            "0         2811\n",
            "Other      629\n",
            "Name: s52, dtype: int64\n"
          ]
        },
        {
          "output_type": "stream",
          "name": "stderr",
          "text": [
            "/usr/local/lib/python3.7/dist-packages/ipykernel_launcher.py:4: SettingWithCopyWarning: \n",
            "A value is trying to be set on a copy of a slice from a DataFrame\n",
            "\n",
            "See the caveats in the documentation: https://pandas.pydata.org/pandas-docs/stable/user_guide/indexing.html#returning-a-view-versus-a-copy\n",
            "  after removing the cwd from sys.path.\n"
          ]
        }
      ]
    },
    {
      "cell_type": "code",
      "source": [
        "counts = data_train['s70'].value_counts()\n",
        "print(counts)\n",
        "mask = data_train['s70'].isin(counts[counts < 2000].index)\n",
        "data_train['s70'][mask] ='Other'\n",
        "print(pd.value_counts(data_train['s70']))"
      ],
      "metadata": {
        "colab": {
          "base_uri": "https://localhost:8080/"
        },
        "id": "mOCXSgc69SSS",
        "outputId": "2a74b293-12de-48b4-86de-650e28f0b8b6"
      },
      "execution_count": null,
      "outputs": [
        {
          "output_type": "stream",
          "name": "stdout",
          "text": [
            "op: D    24013\n",
            "op: B     2175\n",
            "op: C     1985\n",
            "op: A      149\n",
            "Name: s70, dtype: int64\n"
          ]
        },
        {
          "output_type": "stream",
          "name": "stderr",
          "text": [
            "/usr/local/lib/python3.7/dist-packages/ipykernel_launcher.py:4: SettingWithCopyWarning: \n",
            "A value is trying to be set on a copy of a slice from a DataFrame\n",
            "\n",
            "See the caveats in the documentation: https://pandas.pydata.org/pandas-docs/stable/user_guide/indexing.html#returning-a-view-versus-a-copy\n",
            "  after removing the cwd from sys.path.\n"
          ]
        },
        {
          "output_type": "stream",
          "name": "stdout",
          "text": [
            "op: D    24013\n",
            "op: B     2175\n",
            "Other     2134\n",
            "Name: s70, dtype: int64\n"
          ]
        }
      ]
    },
    {
      "cell_type": "code",
      "source": [
        "counts = data_test['s70'].value_counts()\n",
        "print(counts)\n",
        "mask = data_test['s70'].isin(counts[counts < 2000].index)\n",
        "data_test['s70'][mask] ='Other'\n",
        "print(pd.value_counts(data_test['s70']))"
      ],
      "metadata": {
        "colab": {
          "base_uri": "https://localhost:8080/"
        },
        "id": "PGm0IKm5R4Vr",
        "outputId": "af698d7f-000b-48f5-c03d-f7db1bb2c525"
      },
      "execution_count": null,
      "outputs": [
        {
          "output_type": "stream",
          "name": "stdout",
          "text": [
            "op: D    64064\n",
            "op: C    11121\n",
            "op: B     9529\n",
            "op: A      351\n",
            "Name: s70, dtype: int64\n",
            "op: D    64064\n",
            "op: C    11121\n",
            "op: B     9529\n",
            "Other      351\n",
            "Name: s70, dtype: int64\n"
          ]
        },
        {
          "output_type": "stream",
          "name": "stderr",
          "text": [
            "/usr/local/lib/python3.7/dist-packages/ipykernel_launcher.py:4: SettingWithCopyWarning: \n",
            "A value is trying to be set on a copy of a slice from a DataFrame\n",
            "\n",
            "See the caveats in the documentation: https://pandas.pydata.org/pandas-docs/stable/user_guide/indexing.html#returning-a-view-versus-a-copy\n",
            "  after removing the cwd from sys.path.\n"
          ]
        }
      ]
    },
    {
      "cell_type": "code",
      "source": [
        "counts = data_train['s71'].value_counts()\n",
        "print(counts)\n",
        "mask = data_train['s71'].isin(counts[counts < 2000].index)\n",
        "data_train['s71'][mask] ='Other'\n",
        "print(pd.value_counts(data_train['s71']))"
      ],
      "metadata": {
        "colab": {
          "base_uri": "https://localhost:8080/"
        },
        "id": "IghYeD6t9dCJ",
        "outputId": "11da1563-dfe9-4ced-9d6a-d1f2c9aecd0f"
      },
      "execution_count": null,
      "outputs": [
        {
          "output_type": "stream",
          "name": "stdout",
          "text": [
            "b    25010\n",
            "d     1612\n",
            "c     1607\n",
            "a       93\n",
            "Name: s71, dtype: int64\n",
            "b        25010\n",
            "Other     3312\n",
            "Name: s71, dtype: int64\n"
          ]
        },
        {
          "output_type": "stream",
          "name": "stderr",
          "text": [
            "/usr/local/lib/python3.7/dist-packages/ipykernel_launcher.py:4: SettingWithCopyWarning: \n",
            "A value is trying to be set on a copy of a slice from a DataFrame\n",
            "\n",
            "See the caveats in the documentation: https://pandas.pydata.org/pandas-docs/stable/user_guide/indexing.html#returning-a-view-versus-a-copy\n",
            "  after removing the cwd from sys.path.\n"
          ]
        }
      ]
    },
    {
      "cell_type": "code",
      "source": [
        "counts = data_test['s71'].value_counts()\n",
        "print(counts)\n",
        "mask = data_test['s71'].isin(counts[counts < 2000].index)\n",
        "data_test['s71'][mask] ='Other'\n",
        "print(pd.value_counts(data_test['s71']))"
      ],
      "metadata": {
        "colab": {
          "base_uri": "https://localhost:8080/"
        },
        "id": "7EsRNbB4SAVQ",
        "outputId": "8f2ceec5-b173-464f-e6f5-fe23ad05109c"
      },
      "execution_count": null,
      "outputs": [
        {
          "output_type": "stream",
          "name": "stdout",
          "text": [
            "b    63811\n",
            "d    11087\n",
            "c     9982\n",
            "a      185\n",
            "Name: s71, dtype: int64\n"
          ]
        },
        {
          "output_type": "stream",
          "name": "stderr",
          "text": [
            "/usr/local/lib/python3.7/dist-packages/ipykernel_launcher.py:4: SettingWithCopyWarning: \n",
            "A value is trying to be set on a copy of a slice from a DataFrame\n",
            "\n",
            "See the caveats in the documentation: https://pandas.pydata.org/pandas-docs/stable/user_guide/indexing.html#returning-a-view-versus-a-copy\n",
            "  after removing the cwd from sys.path.\n"
          ]
        },
        {
          "output_type": "stream",
          "name": "stdout",
          "text": [
            "b        63811\n",
            "d        11087\n",
            "c         9982\n",
            "Other      185\n",
            "Name: s71, dtype: int64\n"
          ]
        }
      ]
    },
    {
      "cell_type": "code",
      "execution_count": null,
      "metadata": {
        "id": "GpWDId40hnOv",
        "outputId": "99b14ce3-2104-4795-d1a7-9246c9cf7043",
        "colab": {
          "base_uri": "https://localhost:8080/"
        }
      },
      "outputs": [
        {
          "output_type": "execute_result",
          "data": {
            "text/plain": [
              "(85065, 35)"
            ]
          },
          "metadata": {},
          "execution_count": 41
        }
      ],
      "source": [
        "data_train.shape\n",
        "data_test.shape"
      ]
    },
    {
      "cell_type": "code",
      "execution_count": null,
      "metadata": {
        "id": "WUMDrIOThnOy",
        "outputId": "e527066c-c336-4208-d072-12d5d184dbcb",
        "colab": {
          "base_uri": "https://localhost:8080/",
          "height": 299
        }
      },
      "outputs": [
        {
          "output_type": "execute_result",
          "data": {
            "text/plain": [
              "                                                  id gender s11 s12  s13 s16  \\\n",
              "0  b'gAAAAABinOi328DZcweGB4_nOyHA3Dy6o1YKYKyf3COx...      M   Y   Y    1   B   \n",
              "1  b'gAAAAABinOikutEIBjkUXl9lYTg4RI6jc4NfiMUCcVsn...      M   Y   Y    1   B   \n",
              "2  b'gAAAAABinOjBM70jBXOroAlUSq5lNXMd_oP0PU7jLQE5...      M   Y   N    1   B   \n",
              "3  b'gAAAAABinOimitAnqlgOcqnD_LeNL3WEbXNGvjd3QVPi...      M   Y   Y    1   D   \n",
              "4  b'gAAAAABinOi3W9p3Oka5MV_dc2TeorZUcIWOnnODSx7E...      M   Y   Y    1   D   \n",
              "\n",
              "  s17 s18  s48 s52  ...        n6        n7        n8         n9        n10  \\\n",
              "0   D   D    0   l  ...  0.026301 -9.200175  2.122970   6.646617   4.801224   \n",
              "1   C   B    1   l  ...  0.010774 -8.897092  1.770889  11.046294   6.407230   \n",
              "2   D   B    1   l  ...  0.016837 -9.173660  1.871872   2.805834   5.481219   \n",
              "3   D   B    0   1  ...  0.015684 -9.178200  1.675028   6.354938   5.427266   \n",
              "4   C   B    1   1  ...  0.006406 -8.726633  1.963535   6.810158  11.487845   \n",
              "\n",
              "        n11  n12 n13       n14 n15  \n",
              "0  1.693087    0   0  0.439270   2  \n",
              "1  1.516728    0   0  0.084334   4  \n",
              "2  1.788823    0   0  0.984210   0  \n",
              "3  1.792147    0   0  0.003492   1  \n",
              "4  1.880992    0   0  0.060614   0  \n",
              "\n",
              "[5 rows x 35 columns]"
            ],
            "text/html": [
              "\n",
              "  <div id=\"df-ee8e33b0-ccd5-4ce8-8034-8596f00bbc0f\">\n",
              "    <div class=\"colab-df-container\">\n",
              "      <div>\n",
              "<style scoped>\n",
              "    .dataframe tbody tr th:only-of-type {\n",
              "        vertical-align: middle;\n",
              "    }\n",
              "\n",
              "    .dataframe tbody tr th {\n",
              "        vertical-align: top;\n",
              "    }\n",
              "\n",
              "    .dataframe thead th {\n",
              "        text-align: right;\n",
              "    }\n",
              "</style>\n",
              "<table border=\"1\" class=\"dataframe\">\n",
              "  <thead>\n",
              "    <tr style=\"text-align: right;\">\n",
              "      <th></th>\n",
              "      <th>id</th>\n",
              "      <th>gender</th>\n",
              "      <th>s11</th>\n",
              "      <th>s12</th>\n",
              "      <th>s13</th>\n",
              "      <th>s16</th>\n",
              "      <th>s17</th>\n",
              "      <th>s18</th>\n",
              "      <th>s48</th>\n",
              "      <th>s52</th>\n",
              "      <th>...</th>\n",
              "      <th>n6</th>\n",
              "      <th>n7</th>\n",
              "      <th>n8</th>\n",
              "      <th>n9</th>\n",
              "      <th>n10</th>\n",
              "      <th>n11</th>\n",
              "      <th>n12</th>\n",
              "      <th>n13</th>\n",
              "      <th>n14</th>\n",
              "      <th>n15</th>\n",
              "    </tr>\n",
              "  </thead>\n",
              "  <tbody>\n",
              "    <tr>\n",
              "      <th>0</th>\n",
              "      <td>b'gAAAAABinOi328DZcweGB4_nOyHA3Dy6o1YKYKyf3COx...</td>\n",
              "      <td>M</td>\n",
              "      <td>Y</td>\n",
              "      <td>Y</td>\n",
              "      <td>1</td>\n",
              "      <td>B</td>\n",
              "      <td>D</td>\n",
              "      <td>D</td>\n",
              "      <td>0</td>\n",
              "      <td>l</td>\n",
              "      <td>...</td>\n",
              "      <td>0.026301</td>\n",
              "      <td>-9.200175</td>\n",
              "      <td>2.122970</td>\n",
              "      <td>6.646617</td>\n",
              "      <td>4.801224</td>\n",
              "      <td>1.693087</td>\n",
              "      <td>0</td>\n",
              "      <td>0</td>\n",
              "      <td>0.439270</td>\n",
              "      <td>2</td>\n",
              "    </tr>\n",
              "    <tr>\n",
              "      <th>1</th>\n",
              "      <td>b'gAAAAABinOikutEIBjkUXl9lYTg4RI6jc4NfiMUCcVsn...</td>\n",
              "      <td>M</td>\n",
              "      <td>Y</td>\n",
              "      <td>Y</td>\n",
              "      <td>1</td>\n",
              "      <td>B</td>\n",
              "      <td>C</td>\n",
              "      <td>B</td>\n",
              "      <td>1</td>\n",
              "      <td>l</td>\n",
              "      <td>...</td>\n",
              "      <td>0.010774</td>\n",
              "      <td>-8.897092</td>\n",
              "      <td>1.770889</td>\n",
              "      <td>11.046294</td>\n",
              "      <td>6.407230</td>\n",
              "      <td>1.516728</td>\n",
              "      <td>0</td>\n",
              "      <td>0</td>\n",
              "      <td>0.084334</td>\n",
              "      <td>4</td>\n",
              "    </tr>\n",
              "    <tr>\n",
              "      <th>2</th>\n",
              "      <td>b'gAAAAABinOjBM70jBXOroAlUSq5lNXMd_oP0PU7jLQE5...</td>\n",
              "      <td>M</td>\n",
              "      <td>Y</td>\n",
              "      <td>N</td>\n",
              "      <td>1</td>\n",
              "      <td>B</td>\n",
              "      <td>D</td>\n",
              "      <td>B</td>\n",
              "      <td>1</td>\n",
              "      <td>l</td>\n",
              "      <td>...</td>\n",
              "      <td>0.016837</td>\n",
              "      <td>-9.173660</td>\n",
              "      <td>1.871872</td>\n",
              "      <td>2.805834</td>\n",
              "      <td>5.481219</td>\n",
              "      <td>1.788823</td>\n",
              "      <td>0</td>\n",
              "      <td>0</td>\n",
              "      <td>0.984210</td>\n",
              "      <td>0</td>\n",
              "    </tr>\n",
              "    <tr>\n",
              "      <th>3</th>\n",
              "      <td>b'gAAAAABinOimitAnqlgOcqnD_LeNL3WEbXNGvjd3QVPi...</td>\n",
              "      <td>M</td>\n",
              "      <td>Y</td>\n",
              "      <td>Y</td>\n",
              "      <td>1</td>\n",
              "      <td>D</td>\n",
              "      <td>D</td>\n",
              "      <td>B</td>\n",
              "      <td>0</td>\n",
              "      <td>1</td>\n",
              "      <td>...</td>\n",
              "      <td>0.015684</td>\n",
              "      <td>-9.178200</td>\n",
              "      <td>1.675028</td>\n",
              "      <td>6.354938</td>\n",
              "      <td>5.427266</td>\n",
              "      <td>1.792147</td>\n",
              "      <td>0</td>\n",
              "      <td>0</td>\n",
              "      <td>0.003492</td>\n",
              "      <td>1</td>\n",
              "    </tr>\n",
              "    <tr>\n",
              "      <th>4</th>\n",
              "      <td>b'gAAAAABinOi3W9p3Oka5MV_dc2TeorZUcIWOnnODSx7E...</td>\n",
              "      <td>M</td>\n",
              "      <td>Y</td>\n",
              "      <td>Y</td>\n",
              "      <td>1</td>\n",
              "      <td>D</td>\n",
              "      <td>C</td>\n",
              "      <td>B</td>\n",
              "      <td>1</td>\n",
              "      <td>1</td>\n",
              "      <td>...</td>\n",
              "      <td>0.006406</td>\n",
              "      <td>-8.726633</td>\n",
              "      <td>1.963535</td>\n",
              "      <td>6.810158</td>\n",
              "      <td>11.487845</td>\n",
              "      <td>1.880992</td>\n",
              "      <td>0</td>\n",
              "      <td>0</td>\n",
              "      <td>0.060614</td>\n",
              "      <td>0</td>\n",
              "    </tr>\n",
              "  </tbody>\n",
              "</table>\n",
              "<p>5 rows × 35 columns</p>\n",
              "</div>\n",
              "      <button class=\"colab-df-convert\" onclick=\"convertToInteractive('df-ee8e33b0-ccd5-4ce8-8034-8596f00bbc0f')\"\n",
              "              title=\"Convert this dataframe to an interactive table.\"\n",
              "              style=\"display:none;\">\n",
              "        \n",
              "  <svg xmlns=\"http://www.w3.org/2000/svg\" height=\"24px\"viewBox=\"0 0 24 24\"\n",
              "       width=\"24px\">\n",
              "    <path d=\"M0 0h24v24H0V0z\" fill=\"none\"/>\n",
              "    <path d=\"M18.56 5.44l.94 2.06.94-2.06 2.06-.94-2.06-.94-.94-2.06-.94 2.06-2.06.94zm-11 1L8.5 8.5l.94-2.06 2.06-.94-2.06-.94L8.5 2.5l-.94 2.06-2.06.94zm10 10l.94 2.06.94-2.06 2.06-.94-2.06-.94-.94-2.06-.94 2.06-2.06.94z\"/><path d=\"M17.41 7.96l-1.37-1.37c-.4-.4-.92-.59-1.43-.59-.52 0-1.04.2-1.43.59L10.3 9.45l-7.72 7.72c-.78.78-.78 2.05 0 2.83L4 21.41c.39.39.9.59 1.41.59.51 0 1.02-.2 1.41-.59l7.78-7.78 2.81-2.81c.8-.78.8-2.07 0-2.86zM5.41 20L4 18.59l7.72-7.72 1.47 1.35L5.41 20z\"/>\n",
              "  </svg>\n",
              "      </button>\n",
              "      \n",
              "  <style>\n",
              "    .colab-df-container {\n",
              "      display:flex;\n",
              "      flex-wrap:wrap;\n",
              "      gap: 12px;\n",
              "    }\n",
              "\n",
              "    .colab-df-convert {\n",
              "      background-color: #E8F0FE;\n",
              "      border: none;\n",
              "      border-radius: 50%;\n",
              "      cursor: pointer;\n",
              "      display: none;\n",
              "      fill: #1967D2;\n",
              "      height: 32px;\n",
              "      padding: 0 0 0 0;\n",
              "      width: 32px;\n",
              "    }\n",
              "\n",
              "    .colab-df-convert:hover {\n",
              "      background-color: #E2EBFA;\n",
              "      box-shadow: 0px 1px 2px rgba(60, 64, 67, 0.3), 0px 1px 3px 1px rgba(60, 64, 67, 0.15);\n",
              "      fill: #174EA6;\n",
              "    }\n",
              "\n",
              "    [theme=dark] .colab-df-convert {\n",
              "      background-color: #3B4455;\n",
              "      fill: #D2E3FC;\n",
              "    }\n",
              "\n",
              "    [theme=dark] .colab-df-convert:hover {\n",
              "      background-color: #434B5C;\n",
              "      box-shadow: 0px 1px 3px 1px rgba(0, 0, 0, 0.15);\n",
              "      filter: drop-shadow(0px 1px 2px rgba(0, 0, 0, 0.3));\n",
              "      fill: #FFFFFF;\n",
              "    }\n",
              "  </style>\n",
              "\n",
              "      <script>\n",
              "        const buttonEl =\n",
              "          document.querySelector('#df-ee8e33b0-ccd5-4ce8-8034-8596f00bbc0f button.colab-df-convert');\n",
              "        buttonEl.style.display =\n",
              "          google.colab.kernel.accessAllowed ? 'block' : 'none';\n",
              "\n",
              "        async function convertToInteractive(key) {\n",
              "          const element = document.querySelector('#df-ee8e33b0-ccd5-4ce8-8034-8596f00bbc0f');\n",
              "          const dataTable =\n",
              "            await google.colab.kernel.invokeFunction('convertToInteractive',\n",
              "                                                     [key], {});\n",
              "          if (!dataTable) return;\n",
              "\n",
              "          const docLinkHtml = 'Like what you see? Visit the ' +\n",
              "            '<a target=\"_blank\" href=https://colab.research.google.com/notebooks/data_table.ipynb>data table notebook</a>'\n",
              "            + ' to learn more about interactive tables.';\n",
              "          element.innerHTML = '';\n",
              "          dataTable['output_type'] = 'display_data';\n",
              "          await google.colab.output.renderOutput(dataTable, element);\n",
              "          const docLink = document.createElement('div');\n",
              "          docLink.innerHTML = docLinkHtml;\n",
              "          element.appendChild(docLink);\n",
              "        }\n",
              "      </script>\n",
              "    </div>\n",
              "  </div>\n",
              "  "
            ]
          },
          "metadata": {},
          "execution_count": 42
        }
      ],
      "source": [
        "data_train.head(5)\n",
        "data_test.head(5)"
      ]
    },
    {
      "cell_type": "markdown",
      "source": [
        "Removing unnecessary column"
      ],
      "metadata": {
        "id": "W8eJEaHs1M2B"
      }
    },
    {
      "cell_type": "code",
      "execution_count": null,
      "metadata": {
        "id": "moQ46GDvhnO1"
      },
      "outputs": [],
      "source": [
        "ls = ['id','s13','s53','s54','s55','s56','s57','s59','n12']"
      ]
    },
    {
      "cell_type": "code",
      "execution_count": null,
      "metadata": {
        "id": "0F14yTWfhnO3"
      },
      "outputs": [],
      "source": [
        "data_filtered = data_train.drop(columns=ls)\n",
        "data_filtered_test = data_test.drop(columns=ls)"
      ]
    },
    {
      "cell_type": "code",
      "source": [
        "data_filtered.head()"
      ],
      "metadata": {
        "colab": {
          "base_uri": "https://localhost:8080/",
          "height": 279
        },
        "id": "kNXeiaWWHgqS",
        "outputId": "2ae2b4f7-5118-450e-a3ea-de6a67904bf8"
      },
      "execution_count": null,
      "outputs": [
        {
          "output_type": "execute_result",
          "data": {
            "text/plain": [
              "  gender s11 s12 s16 s17    s18  s48 s52 s58 s69  ...        n6        n7  \\\n",
              "0      M   Y   N   D   D      B    0   1   B   b  ...  0.017176 -9.126056   \n",
              "1      M   Y   Y   D   D      B    1   1   B   b  ...  0.013857 -9.098287   \n",
              "2      M   Y   Y   D   D      B    0   1   B   b  ...  0.013943 -9.234894   \n",
              "3      F   Y   Y   D   D      B    0   1   B   b  ...  0.010387 -9.378025   \n",
              "4      M   N   Y   B   D  Other    1   l   B   a  ...  0.016289 -9.261962   \n",
              "\n",
              "         n8        n9       n10       n11  n13       n14  n15  label  \n",
              "0  1.732291  3.698504  4.804517  1.544484    0  0.631220    5      0  \n",
              "1  1.505885  6.791357  6.110416  1.712354    0  0.392746    3      1  \n",
              "2  1.503828  4.109685  3.953226  1.804260    0  0.222537    2      0  \n",
              "3  1.485863  7.265876  4.559419  1.537645    0  0.154409    4      0  \n",
              "4  1.619210  3.737647  4.052003  1.637831    1  0.737560    1      0  \n",
              "\n",
              "[5 rows x 27 columns]"
            ],
            "text/html": [
              "\n",
              "  <div id=\"df-0b5dfacd-a86e-42ef-bf7f-1ba48b996bfa\">\n",
              "    <div class=\"colab-df-container\">\n",
              "      <div>\n",
              "<style scoped>\n",
              "    .dataframe tbody tr th:only-of-type {\n",
              "        vertical-align: middle;\n",
              "    }\n",
              "\n",
              "    .dataframe tbody tr th {\n",
              "        vertical-align: top;\n",
              "    }\n",
              "\n",
              "    .dataframe thead th {\n",
              "        text-align: right;\n",
              "    }\n",
              "</style>\n",
              "<table border=\"1\" class=\"dataframe\">\n",
              "  <thead>\n",
              "    <tr style=\"text-align: right;\">\n",
              "      <th></th>\n",
              "      <th>gender</th>\n",
              "      <th>s11</th>\n",
              "      <th>s12</th>\n",
              "      <th>s16</th>\n",
              "      <th>s17</th>\n",
              "      <th>s18</th>\n",
              "      <th>s48</th>\n",
              "      <th>s52</th>\n",
              "      <th>s58</th>\n",
              "      <th>s69</th>\n",
              "      <th>...</th>\n",
              "      <th>n6</th>\n",
              "      <th>n7</th>\n",
              "      <th>n8</th>\n",
              "      <th>n9</th>\n",
              "      <th>n10</th>\n",
              "      <th>n11</th>\n",
              "      <th>n13</th>\n",
              "      <th>n14</th>\n",
              "      <th>n15</th>\n",
              "      <th>label</th>\n",
              "    </tr>\n",
              "  </thead>\n",
              "  <tbody>\n",
              "    <tr>\n",
              "      <th>0</th>\n",
              "      <td>M</td>\n",
              "      <td>Y</td>\n",
              "      <td>N</td>\n",
              "      <td>D</td>\n",
              "      <td>D</td>\n",
              "      <td>B</td>\n",
              "      <td>0</td>\n",
              "      <td>1</td>\n",
              "      <td>B</td>\n",
              "      <td>b</td>\n",
              "      <td>...</td>\n",
              "      <td>0.017176</td>\n",
              "      <td>-9.126056</td>\n",
              "      <td>1.732291</td>\n",
              "      <td>3.698504</td>\n",
              "      <td>4.804517</td>\n",
              "      <td>1.544484</td>\n",
              "      <td>0</td>\n",
              "      <td>0.631220</td>\n",
              "      <td>5</td>\n",
              "      <td>0</td>\n",
              "    </tr>\n",
              "    <tr>\n",
              "      <th>1</th>\n",
              "      <td>M</td>\n",
              "      <td>Y</td>\n",
              "      <td>Y</td>\n",
              "      <td>D</td>\n",
              "      <td>D</td>\n",
              "      <td>B</td>\n",
              "      <td>1</td>\n",
              "      <td>1</td>\n",
              "      <td>B</td>\n",
              "      <td>b</td>\n",
              "      <td>...</td>\n",
              "      <td>0.013857</td>\n",
              "      <td>-9.098287</td>\n",
              "      <td>1.505885</td>\n",
              "      <td>6.791357</td>\n",
              "      <td>6.110416</td>\n",
              "      <td>1.712354</td>\n",
              "      <td>0</td>\n",
              "      <td>0.392746</td>\n",
              "      <td>3</td>\n",
              "      <td>1</td>\n",
              "    </tr>\n",
              "    <tr>\n",
              "      <th>2</th>\n",
              "      <td>M</td>\n",
              "      <td>Y</td>\n",
              "      <td>Y</td>\n",
              "      <td>D</td>\n",
              "      <td>D</td>\n",
              "      <td>B</td>\n",
              "      <td>0</td>\n",
              "      <td>1</td>\n",
              "      <td>B</td>\n",
              "      <td>b</td>\n",
              "      <td>...</td>\n",
              "      <td>0.013943</td>\n",
              "      <td>-9.234894</td>\n",
              "      <td>1.503828</td>\n",
              "      <td>4.109685</td>\n",
              "      <td>3.953226</td>\n",
              "      <td>1.804260</td>\n",
              "      <td>0</td>\n",
              "      <td>0.222537</td>\n",
              "      <td>2</td>\n",
              "      <td>0</td>\n",
              "    </tr>\n",
              "    <tr>\n",
              "      <th>3</th>\n",
              "      <td>F</td>\n",
              "      <td>Y</td>\n",
              "      <td>Y</td>\n",
              "      <td>D</td>\n",
              "      <td>D</td>\n",
              "      <td>B</td>\n",
              "      <td>0</td>\n",
              "      <td>1</td>\n",
              "      <td>B</td>\n",
              "      <td>b</td>\n",
              "      <td>...</td>\n",
              "      <td>0.010387</td>\n",
              "      <td>-9.378025</td>\n",
              "      <td>1.485863</td>\n",
              "      <td>7.265876</td>\n",
              "      <td>4.559419</td>\n",
              "      <td>1.537645</td>\n",
              "      <td>0</td>\n",
              "      <td>0.154409</td>\n",
              "      <td>4</td>\n",
              "      <td>0</td>\n",
              "    </tr>\n",
              "    <tr>\n",
              "      <th>4</th>\n",
              "      <td>M</td>\n",
              "      <td>N</td>\n",
              "      <td>Y</td>\n",
              "      <td>B</td>\n",
              "      <td>D</td>\n",
              "      <td>Other</td>\n",
              "      <td>1</td>\n",
              "      <td>l</td>\n",
              "      <td>B</td>\n",
              "      <td>a</td>\n",
              "      <td>...</td>\n",
              "      <td>0.016289</td>\n",
              "      <td>-9.261962</td>\n",
              "      <td>1.619210</td>\n",
              "      <td>3.737647</td>\n",
              "      <td>4.052003</td>\n",
              "      <td>1.637831</td>\n",
              "      <td>1</td>\n",
              "      <td>0.737560</td>\n",
              "      <td>1</td>\n",
              "      <td>0</td>\n",
              "    </tr>\n",
              "  </tbody>\n",
              "</table>\n",
              "<p>5 rows × 27 columns</p>\n",
              "</div>\n",
              "      <button class=\"colab-df-convert\" onclick=\"convertToInteractive('df-0b5dfacd-a86e-42ef-bf7f-1ba48b996bfa')\"\n",
              "              title=\"Convert this dataframe to an interactive table.\"\n",
              "              style=\"display:none;\">\n",
              "        \n",
              "  <svg xmlns=\"http://www.w3.org/2000/svg\" height=\"24px\"viewBox=\"0 0 24 24\"\n",
              "       width=\"24px\">\n",
              "    <path d=\"M0 0h24v24H0V0z\" fill=\"none\"/>\n",
              "    <path d=\"M18.56 5.44l.94 2.06.94-2.06 2.06-.94-2.06-.94-.94-2.06-.94 2.06-2.06.94zm-11 1L8.5 8.5l.94-2.06 2.06-.94-2.06-.94L8.5 2.5l-.94 2.06-2.06.94zm10 10l.94 2.06.94-2.06 2.06-.94-2.06-.94-.94-2.06-.94 2.06-2.06.94z\"/><path d=\"M17.41 7.96l-1.37-1.37c-.4-.4-.92-.59-1.43-.59-.52 0-1.04.2-1.43.59L10.3 9.45l-7.72 7.72c-.78.78-.78 2.05 0 2.83L4 21.41c.39.39.9.59 1.41.59.51 0 1.02-.2 1.41-.59l7.78-7.78 2.81-2.81c.8-.78.8-2.07 0-2.86zM5.41 20L4 18.59l7.72-7.72 1.47 1.35L5.41 20z\"/>\n",
              "  </svg>\n",
              "      </button>\n",
              "      \n",
              "  <style>\n",
              "    .colab-df-container {\n",
              "      display:flex;\n",
              "      flex-wrap:wrap;\n",
              "      gap: 12px;\n",
              "    }\n",
              "\n",
              "    .colab-df-convert {\n",
              "      background-color: #E8F0FE;\n",
              "      border: none;\n",
              "      border-radius: 50%;\n",
              "      cursor: pointer;\n",
              "      display: none;\n",
              "      fill: #1967D2;\n",
              "      height: 32px;\n",
              "      padding: 0 0 0 0;\n",
              "      width: 32px;\n",
              "    }\n",
              "\n",
              "    .colab-df-convert:hover {\n",
              "      background-color: #E2EBFA;\n",
              "      box-shadow: 0px 1px 2px rgba(60, 64, 67, 0.3), 0px 1px 3px 1px rgba(60, 64, 67, 0.15);\n",
              "      fill: #174EA6;\n",
              "    }\n",
              "\n",
              "    [theme=dark] .colab-df-convert {\n",
              "      background-color: #3B4455;\n",
              "      fill: #D2E3FC;\n",
              "    }\n",
              "\n",
              "    [theme=dark] .colab-df-convert:hover {\n",
              "      background-color: #434B5C;\n",
              "      box-shadow: 0px 1px 3px 1px rgba(0, 0, 0, 0.15);\n",
              "      filter: drop-shadow(0px 1px 2px rgba(0, 0, 0, 0.3));\n",
              "      fill: #FFFFFF;\n",
              "    }\n",
              "  </style>\n",
              "\n",
              "      <script>\n",
              "        const buttonEl =\n",
              "          document.querySelector('#df-0b5dfacd-a86e-42ef-bf7f-1ba48b996bfa button.colab-df-convert');\n",
              "        buttonEl.style.display =\n",
              "          google.colab.kernel.accessAllowed ? 'block' : 'none';\n",
              "\n",
              "        async function convertToInteractive(key) {\n",
              "          const element = document.querySelector('#df-0b5dfacd-a86e-42ef-bf7f-1ba48b996bfa');\n",
              "          const dataTable =\n",
              "            await google.colab.kernel.invokeFunction('convertToInteractive',\n",
              "                                                     [key], {});\n",
              "          if (!dataTable) return;\n",
              "\n",
              "          const docLinkHtml = 'Like what you see? Visit the ' +\n",
              "            '<a target=\"_blank\" href=https://colab.research.google.com/notebooks/data_table.ipynb>data table notebook</a>'\n",
              "            + ' to learn more about interactive tables.';\n",
              "          element.innerHTML = '';\n",
              "          dataTable['output_type'] = 'display_data';\n",
              "          await google.colab.output.renderOutput(dataTable, element);\n",
              "          const docLink = document.createElement('div');\n",
              "          docLink.innerHTML = docLinkHtml;\n",
              "          element.appendChild(docLink);\n",
              "        }\n",
              "      </script>\n",
              "    </div>\n",
              "  </div>\n",
              "  "
            ]
          },
          "metadata": {},
          "execution_count": 45
        }
      ]
    },
    {
      "cell_type": "code",
      "source": [
        "data_filtered['gender'] = [1 if x == 'M' else 0 for x in data_filtered['gender'].values]\n",
        "data_filtered['s11'] = [1 if x == 'Y' else 0 for x in data_filtered['s11'].values]\n",
        "data_filtered['s12'] = [1 if x == 'Y' else 0 for x in data_filtered['s12'].values]\n",
        "data_filtered['s58'] = [1 if x == 'B' else 0 for x in data_filtered['s58'].values]"
      ],
      "metadata": {
        "id": "6mrU8deNVXq6"
      },
      "execution_count": null,
      "outputs": []
    },
    {
      "cell_type": "code",
      "source": [
        "data_filtered_test['gender'] = [1 if x == 'M' else 0 for x in data_filtered_test['gender'].values]\n",
        "data_filtered_test['s11'] = [1 if x == 'Y' else 0 for x in data_filtered_test['s11'].values]\n",
        "data_filtered_test['s12'] = [1 if x == 'Y' else 0 for x in data_filtered_test['s12'].values]\n",
        "data_filtered_test['s58'] = [1 if x == 'B' else 0 for x in data_filtered_test['s58'].values]"
      ],
      "metadata": {
        "id": "hl2GkQ0fqNsr"
      },
      "execution_count": null,
      "outputs": []
    },
    {
      "cell_type": "code",
      "source": [
        "data_filtered['s69'].value_counts()"
      ],
      "metadata": {
        "colab": {
          "base_uri": "https://localhost:8080/"
        },
        "id": "nTWtBqLRFeXK",
        "outputId": "67c60430-eb43-43ad-eb01-642f44c19d14"
      },
      "execution_count": null,
      "outputs": [
        {
          "output_type": "execute_result",
          "data": {
            "text/plain": [
              "b        21028\n",
              "a         6446\n",
              "Other      848\n",
              "Name: s69, dtype: int64"
            ]
          },
          "metadata": {},
          "execution_count": 48
        }
      ]
    },
    {
      "cell_type": "code",
      "execution_count": null,
      "metadata": {
        "id": "kpvsNDA0hnO4"
      },
      "outputs": [],
      "source": [
        "data_filtered = pd.get_dummies(data_filtered)"
      ]
    },
    {
      "cell_type": "code",
      "execution_count": null,
      "metadata": {
        "id": "JlcVsxV4hnO5"
      },
      "outputs": [],
      "source": [
        "data_filtered_test = pd.get_dummies(data_filtered_test)"
      ]
    },
    {
      "cell_type": "markdown",
      "source": [
        "Determining correlation"
      ],
      "metadata": {
        "id": "KQUETrRZ1SKr"
      }
    },
    {
      "cell_type": "code",
      "source": [
        "cr = data_filtered.corr()\n",
        "cr.to_csv('corr.csv')"
      ],
      "metadata": {
        "id": "0PDLT_RgmM1E"
      },
      "execution_count": null,
      "outputs": []
    },
    {
      "cell_type": "code",
      "source": [
        "cr"
      ],
      "metadata": {
        "colab": {
          "base_uri": "https://localhost:8080/",
          "height": 1000
        },
        "id": "tovZQ0xeVygM",
        "outputId": "fe55f2fe-0f09-47c2-e6f5-ec7d984340ea"
      },
      "execution_count": null,
      "outputs": [
        {
          "output_type": "execute_result",
          "data": {
            "text/plain": [
              "             gender       s11       s12       s48       s58        n1  \\\n",
              "gender     1.000000 -0.175986  0.008275  0.229131 -0.001367 -0.020535   \n",
              "s11       -0.175986  1.000000 -0.122604 -0.227235 -0.000146  0.094626   \n",
              "s12        0.008275 -0.122604  1.000000  0.111740  0.007549  0.131443   \n",
              "s48        0.229131 -0.227235  0.111740  1.000000 -0.002680 -0.031168   \n",
              "s58       -0.001367 -0.000146  0.007549 -0.002680  1.000000 -0.001527   \n",
              "n1        -0.020535  0.094626  0.131443 -0.031168 -0.001527  1.000000   \n",
              "n2        -0.032440  0.097933  0.156240 -0.033586  0.000769  0.855794   \n",
              "n3        -0.115219  0.147243  0.009444  0.051126  0.008489  0.289057   \n",
              "n4        -0.138501  0.087226  0.037484 -0.088057  0.005268  0.131877   \n",
              "n5        -0.075954  0.011796 -0.062526  0.007119 -0.000274  0.166290   \n",
              "n6         0.001879  0.002684 -0.046553 -0.116692 -0.007552  0.081274   \n",
              "n7        -0.048931  0.107899  0.104793  0.026812  0.007867  0.602224   \n",
              "n8         0.098827  0.069586  0.018563 -0.010002 -0.002210  0.662666   \n",
              "n9        -0.073935 -0.008499  0.048050  0.092835  0.005528  0.393686   \n",
              "n10       -0.017454  0.059767  0.148752  0.055772  0.005295  0.490394   \n",
              "n11        0.011116  0.001172 -0.000980  0.000968 -0.003889 -0.004650   \n",
              "n13        0.001771 -0.008851  0.008978  0.003117  0.004879  0.010118   \n",
              "n14        0.011282 -0.008947  0.001485  0.005858 -0.001413 -0.002616   \n",
              "n15        0.005253  0.004480  0.003488  0.008473  0.003263 -0.006759   \n",
              "label      0.223399 -0.252741  0.060475  0.248349 -0.005403  0.142913   \n",
              "s16_B      0.289242 -0.339073  0.129785  0.311789 -0.006135  0.068717   \n",
              "s16_D     -0.279552  0.313882 -0.114022 -0.282586  0.004557 -0.059092   \n",
              "s16_Other  0.005683  0.028829 -0.026739 -0.042005  0.003402 -0.017440   \n",
              "s17_A      0.006195  0.016763  0.011857 -0.003514  0.002516 -0.010376   \n",
              "s17_B      0.081431 -0.028230 -0.051100  0.098072  0.006819  0.011192   \n",
              "s17_C      0.042055 -0.013098  0.048374  0.099311 -0.005033  0.181550   \n",
              "s17_D     -0.091511  0.026862  0.001111 -0.142590 -0.001985 -0.135254   \n",
              "s18_B     -0.179860  0.341616 -0.092750 -0.174009  0.007430 -0.045172   \n",
              "s18_Other  0.179860 -0.341616  0.092750  0.174009 -0.007430  0.045172   \n",
              "s52_1     -0.248496  0.176584 -0.104625 -0.299383  0.006502 -0.037465   \n",
              "s52_Other  0.015093  0.048722  0.022399 -0.016405 -0.009627 -0.101140   \n",
              "s52_l      0.256366 -0.211639  0.099987  0.326007 -0.002133  0.089906   \n",
              "s69_Other  0.005683  0.028829 -0.026739 -0.042005  0.003402 -0.017440   \n",
              "s69_a      0.289242 -0.339073  0.129785  0.311789 -0.006135  0.068717   \n",
              "s69_b     -0.279552  0.313882 -0.114022 -0.282586  0.004557 -0.059092   \n",
              "s70_Other  0.042374 -0.008074  0.050037  0.095090 -0.004178  0.172751   \n",
              "s70_op: B  0.081431 -0.028230 -0.051100  0.098072  0.006819  0.011192   \n",
              "s70_op: D -0.091511  0.026862  0.001111 -0.142590 -0.001985 -0.135254   \n",
              "s71_Other  0.179860 -0.341616  0.092750  0.174009 -0.007430  0.045172   \n",
              "s71_b     -0.179860  0.341616 -0.092750 -0.174009  0.007430 -0.045172   \n",
              "\n",
              "                 n2        n3        n4        n5  ...  s52_Other     s52_l  \\\n",
              "gender    -0.032440 -0.115219 -0.138501 -0.075954  ...   0.015093  0.256366   \n",
              "s11        0.097933  0.147243  0.087226  0.011796  ...   0.048722 -0.211639   \n",
              "s12        0.156240  0.009444  0.037484 -0.062526  ...   0.022399  0.099987   \n",
              "s48       -0.033586  0.051126 -0.088057  0.007119  ...  -0.016405  0.326007   \n",
              "s58        0.000769  0.008489  0.005268 -0.000274  ...  -0.009627 -0.002133   \n",
              "n1         0.855794  0.289057  0.131877  0.166290  ...  -0.101140  0.089906   \n",
              "n2         1.000000  0.321529  0.154993  0.135346  ...  -0.087078  0.058699   \n",
              "n3         0.321529  1.000000  0.222131 -0.056097  ...  -0.074042 -0.088215   \n",
              "n4         0.154993  0.222131  1.000000  0.050772  ...  -0.034539 -0.134858   \n",
              "n5         0.135346 -0.056097  0.050772  1.000000  ...   0.024811  0.094096   \n",
              "n6         0.026397 -0.425036 -0.088265  0.426532  ...   0.042912  0.076710   \n",
              "n7         0.624320  0.640050  0.223498 -0.093723  ...  -0.101875 -0.032520   \n",
              "n8         0.648843  0.220419  0.058810  0.105349  ...  -0.054252  0.138144   \n",
              "n9         0.401184  0.395780  0.168241  0.124063  ...  -0.064231  0.017120   \n",
              "n10        0.525765  0.604656  0.204752 -0.160737  ...  -0.081445 -0.049256   \n",
              "n11       -0.006222 -0.000420 -0.010558  0.005097  ...   0.003483 -0.000151   \n",
              "n13        0.014115  0.002704  0.007066  0.001276  ...  -0.013325  0.009259   \n",
              "n14       -0.002258 -0.006510  0.000621 -0.014498  ...   0.002834  0.003301   \n",
              "n15       -0.006553 -0.005514 -0.000099  0.000468  ...   0.004463  0.014369   \n",
              "label      0.120631 -0.123280 -0.069697  0.183936  ...  -0.027991  0.427854   \n",
              "s16_B      0.043310 -0.155104 -0.125959  0.090689  ...  -0.049921  0.617090   \n",
              "s16_D     -0.037468  0.175513  0.136561 -0.090910  ...   0.006283 -0.594790   \n",
              "s16_Other -0.010416 -0.068743 -0.040504  0.010143  ...   0.106693  0.007949   \n",
              "s17_A     -0.005814 -0.008646  0.000446 -0.002786  ...   0.105839 -0.016519   \n",
              "s17_B     -0.031839 -0.022496 -0.036495  0.046575  ...  -0.036929  0.123313   \n",
              "s17_C      0.182124 -0.005290  0.043206  0.159296  ...  -0.016856  0.223182   \n",
              "s17_D     -0.104680  0.022179 -0.003745 -0.147197  ...   0.018042 -0.246731   \n",
              "s18_B     -0.036539  0.196268  0.060286 -0.119030  ...   0.017840 -0.405851   \n",
              "s18_Other  0.036539 -0.196268 -0.060286  0.119030  ...  -0.017840  0.405851   \n",
              "s52_1     -0.014638  0.117644  0.143134 -0.100203  ...  -0.354401 -0.886126   \n",
              "s52_Other -0.087078 -0.074042 -0.034539  0.024811  ...   1.000000 -0.119320   \n",
              "s52_l      0.058699 -0.088215 -0.134858  0.094096  ...  -0.119320  1.000000   \n",
              "s69_Other -0.010416 -0.068743 -0.040504  0.010143  ...   0.106693  0.007949   \n",
              "s69_a      0.043310 -0.155104 -0.125959  0.090689  ...  -0.049921  0.617090   \n",
              "s69_b     -0.037468  0.175513  0.136561 -0.090910  ...   0.006283 -0.594790   \n",
              "s70_Other  0.174557 -0.007486  0.041911  0.153307  ...   0.012704  0.211334   \n",
              "s70_op: B -0.031839 -0.022496 -0.036495  0.046575  ...  -0.036929  0.123313   \n",
              "s70_op: D -0.104680  0.022179 -0.003745 -0.147197  ...   0.018042 -0.246731   \n",
              "s71_Other  0.036539 -0.196268 -0.060286  0.119030  ...  -0.017840  0.405851   \n",
              "s71_b     -0.036539  0.196268  0.060286 -0.119030  ...   0.017840 -0.405851   \n",
              "\n",
              "           s69_Other     s69_a     s69_b  s70_Other  s70_op: B  s70_op: D  \\\n",
              "gender      0.005683  0.289242 -0.279552   0.042374   0.081431  -0.091511   \n",
              "s11         0.028829 -0.339073  0.313882  -0.008074  -0.028230   0.026862   \n",
              "s12        -0.026739  0.129785 -0.114022   0.050037  -0.051100   0.001111   \n",
              "s48        -0.042005  0.311789 -0.282586   0.095090   0.098072  -0.142590   \n",
              "s58         0.003402 -0.006135  0.004557  -0.004178   0.006819  -0.001985   \n",
              "n1         -0.017440  0.068717 -0.059092   0.172751   0.011192  -0.135254   \n",
              "n2         -0.010416  0.043310 -0.037468   0.174557  -0.031839  -0.104680   \n",
              "n3         -0.068743 -0.155104  0.175513  -0.007486  -0.022496   0.022179   \n",
              "n4         -0.040504 -0.125959  0.136561   0.041911  -0.036495  -0.003745   \n",
              "n5          0.010143  0.090689 -0.090910   0.153307   0.046575  -0.147197   \n",
              "n6          0.063825  0.114609 -0.134767   0.124787   0.029060  -0.113252   \n",
              "n7         -0.046633 -0.078927  0.093853   0.063276  -0.023451  -0.029117   \n",
              "n8          0.029835  0.111496 -0.118535   0.189175  -0.000979  -0.138302   \n",
              "n9         -0.038650 -0.021847  0.036011   0.118560  -0.021479  -0.071208   \n",
              "n10        -0.060481 -0.070076  0.090764   0.044345  -0.035352  -0.006382   \n",
              "n11        -0.001774 -0.003837  0.004370  -0.006943   0.003611   0.002426   \n",
              "n13         0.010958  0.003847 -0.007959   0.003746   0.001079  -0.003553   \n",
              "n14         0.008402  0.003683 -0.006805   0.004367   0.005686  -0.007425   \n",
              "n15         0.003913  0.003254 -0.004645   0.007184  -0.003771  -0.002485   \n",
              "label      -0.006937  0.472407 -0.450260   0.200457   0.121444  -0.237352   \n",
              "s16_B      -0.095367  1.000000 -0.921674   0.194394   0.138201  -0.245320   \n",
              "s16_D      -0.298300 -0.921674  1.000000  -0.232312  -0.125805   0.263996   \n",
              "s16_Other   1.000000 -0.095367 -0.298300   0.117818  -0.017213  -0.073825   \n",
              "s17_A       0.159056 -0.027836 -0.035301   0.254760  -0.020975  -0.171677   \n",
              "s17_B      -0.017213  0.138201 -0.125805  -0.082331   1.000000  -0.680853   \n",
              "s17_C       0.076743  0.208875 -0.230188   0.961725  -0.079180  -0.648085   \n",
              "s17_D      -0.073825 -0.245320  0.263996  -0.673878  -0.680853   1.000000   \n",
              "s18_B      -0.068877 -0.486689  0.493502  -0.298651  -0.050613   0.257005   \n",
              "s18_Other   0.068877  0.486689 -0.493502   0.298651   0.050613  -0.257005   \n",
              "s52_1      -0.057289 -0.557887  0.557254  -0.204968  -0.098901   0.223955   \n",
              "s52_Other   0.106693 -0.049921  0.006283   0.012704  -0.036929   0.018042   \n",
              "s52_l       0.007949  0.617090 -0.594790   0.211334   0.123313  -0.246731   \n",
              "s69_Other   1.000000 -0.095367 -0.298300   0.117818  -0.017213  -0.073825   \n",
              "s69_a      -0.095367  1.000000 -0.921674   0.194394   0.138201  -0.245320   \n",
              "s69_b      -0.298300 -0.921674  1.000000  -0.232312  -0.125805   0.263996   \n",
              "s70_Other   0.117818  0.194394 -0.232312   1.000000  -0.082331  -0.673878   \n",
              "s70_op: B  -0.017213  0.138201 -0.125805  -0.082331   1.000000  -0.680853   \n",
              "s70_op: D  -0.073825 -0.245320  0.263996  -0.673878  -0.680853   1.000000   \n",
              "s71_Other   0.068877  0.486689 -0.493502   0.298651   0.050613  -0.257005   \n",
              "s71_b      -0.068877 -0.486689  0.493502  -0.298651  -0.050613   0.257005   \n",
              "\n",
              "           s71_Other     s71_b  \n",
              "gender      0.179860 -0.179860  \n",
              "s11        -0.341616  0.341616  \n",
              "s12         0.092750 -0.092750  \n",
              "s48         0.174009 -0.174009  \n",
              "s58        -0.007430  0.007430  \n",
              "n1          0.045172 -0.045172  \n",
              "n2          0.036539 -0.036539  \n",
              "n3         -0.196268  0.196268  \n",
              "n4         -0.060286  0.060286  \n",
              "n5          0.119030 -0.119030  \n",
              "n6          0.166513 -0.166513  \n",
              "n7         -0.120688  0.120688  \n",
              "n8          0.079279 -0.079279  \n",
              "n9          0.005604 -0.005604  \n",
              "n10        -0.112663  0.112663  \n",
              "n11        -0.008888  0.008888  \n",
              "n13         0.009451 -0.009451  \n",
              "n14         0.002534 -0.002534  \n",
              "n15         0.004733 -0.004733  \n",
              "label       0.385626 -0.385626  \n",
              "s16_B       0.486689 -0.486689  \n",
              "s16_D      -0.493502  0.493502  \n",
              "s16_Other   0.068877 -0.068877  \n",
              "s17_A       0.054034 -0.054034  \n",
              "s17_B       0.050613 -0.050613  \n",
              "s17_C       0.293469 -0.293469  \n",
              "s17_D      -0.257005  0.257005  \n",
              "s18_B      -1.000000  1.000000  \n",
              "s18_Other   1.000000 -1.000000  \n",
              "s52_1      -0.373913  0.373913  \n",
              "s52_Other  -0.017840  0.017840  \n",
              "s52_l       0.405851 -0.405851  \n",
              "s69_Other   0.068877 -0.068877  \n",
              "s69_a       0.486689 -0.486689  \n",
              "s69_b      -0.493502  0.493502  \n",
              "s70_Other   0.298651 -0.298651  \n",
              "s70_op: B   0.050613 -0.050613  \n",
              "s70_op: D  -0.257005  0.257005  \n",
              "s71_Other   1.000000 -1.000000  \n",
              "s71_b      -1.000000  1.000000  \n",
              "\n",
              "[40 rows x 40 columns]"
            ],
            "text/html": [
              "\n",
              "  <div id=\"df-46de19e4-151d-419c-8bbd-20325e726b20\">\n",
              "    <div class=\"colab-df-container\">\n",
              "      <div>\n",
              "<style scoped>\n",
              "    .dataframe tbody tr th:only-of-type {\n",
              "        vertical-align: middle;\n",
              "    }\n",
              "\n",
              "    .dataframe tbody tr th {\n",
              "        vertical-align: top;\n",
              "    }\n",
              "\n",
              "    .dataframe thead th {\n",
              "        text-align: right;\n",
              "    }\n",
              "</style>\n",
              "<table border=\"1\" class=\"dataframe\">\n",
              "  <thead>\n",
              "    <tr style=\"text-align: right;\">\n",
              "      <th></th>\n",
              "      <th>gender</th>\n",
              "      <th>s11</th>\n",
              "      <th>s12</th>\n",
              "      <th>s48</th>\n",
              "      <th>s58</th>\n",
              "      <th>n1</th>\n",
              "      <th>n2</th>\n",
              "      <th>n3</th>\n",
              "      <th>n4</th>\n",
              "      <th>n5</th>\n",
              "      <th>...</th>\n",
              "      <th>s52_Other</th>\n",
              "      <th>s52_l</th>\n",
              "      <th>s69_Other</th>\n",
              "      <th>s69_a</th>\n",
              "      <th>s69_b</th>\n",
              "      <th>s70_Other</th>\n",
              "      <th>s70_op: B</th>\n",
              "      <th>s70_op: D</th>\n",
              "      <th>s71_Other</th>\n",
              "      <th>s71_b</th>\n",
              "    </tr>\n",
              "  </thead>\n",
              "  <tbody>\n",
              "    <tr>\n",
              "      <th>gender</th>\n",
              "      <td>1.000000</td>\n",
              "      <td>-0.175986</td>\n",
              "      <td>0.008275</td>\n",
              "      <td>0.229131</td>\n",
              "      <td>-0.001367</td>\n",
              "      <td>-0.020535</td>\n",
              "      <td>-0.032440</td>\n",
              "      <td>-0.115219</td>\n",
              "      <td>-0.138501</td>\n",
              "      <td>-0.075954</td>\n",
              "      <td>...</td>\n",
              "      <td>0.015093</td>\n",
              "      <td>0.256366</td>\n",
              "      <td>0.005683</td>\n",
              "      <td>0.289242</td>\n",
              "      <td>-0.279552</td>\n",
              "      <td>0.042374</td>\n",
              "      <td>0.081431</td>\n",
              "      <td>-0.091511</td>\n",
              "      <td>0.179860</td>\n",
              "      <td>-0.179860</td>\n",
              "    </tr>\n",
              "    <tr>\n",
              "      <th>s11</th>\n",
              "      <td>-0.175986</td>\n",
              "      <td>1.000000</td>\n",
              "      <td>-0.122604</td>\n",
              "      <td>-0.227235</td>\n",
              "      <td>-0.000146</td>\n",
              "      <td>0.094626</td>\n",
              "      <td>0.097933</td>\n",
              "      <td>0.147243</td>\n",
              "      <td>0.087226</td>\n",
              "      <td>0.011796</td>\n",
              "      <td>...</td>\n",
              "      <td>0.048722</td>\n",
              "      <td>-0.211639</td>\n",
              "      <td>0.028829</td>\n",
              "      <td>-0.339073</td>\n",
              "      <td>0.313882</td>\n",
              "      <td>-0.008074</td>\n",
              "      <td>-0.028230</td>\n",
              "      <td>0.026862</td>\n",
              "      <td>-0.341616</td>\n",
              "      <td>0.341616</td>\n",
              "    </tr>\n",
              "    <tr>\n",
              "      <th>s12</th>\n",
              "      <td>0.008275</td>\n",
              "      <td>-0.122604</td>\n",
              "      <td>1.000000</td>\n",
              "      <td>0.111740</td>\n",
              "      <td>0.007549</td>\n",
              "      <td>0.131443</td>\n",
              "      <td>0.156240</td>\n",
              "      <td>0.009444</td>\n",
              "      <td>0.037484</td>\n",
              "      <td>-0.062526</td>\n",
              "      <td>...</td>\n",
              "      <td>0.022399</td>\n",
              "      <td>0.099987</td>\n",
              "      <td>-0.026739</td>\n",
              "      <td>0.129785</td>\n",
              "      <td>-0.114022</td>\n",
              "      <td>0.050037</td>\n",
              "      <td>-0.051100</td>\n",
              "      <td>0.001111</td>\n",
              "      <td>0.092750</td>\n",
              "      <td>-0.092750</td>\n",
              "    </tr>\n",
              "    <tr>\n",
              "      <th>s48</th>\n",
              "      <td>0.229131</td>\n",
              "      <td>-0.227235</td>\n",
              "      <td>0.111740</td>\n",
              "      <td>1.000000</td>\n",
              "      <td>-0.002680</td>\n",
              "      <td>-0.031168</td>\n",
              "      <td>-0.033586</td>\n",
              "      <td>0.051126</td>\n",
              "      <td>-0.088057</td>\n",
              "      <td>0.007119</td>\n",
              "      <td>...</td>\n",
              "      <td>-0.016405</td>\n",
              "      <td>0.326007</td>\n",
              "      <td>-0.042005</td>\n",
              "      <td>0.311789</td>\n",
              "      <td>-0.282586</td>\n",
              "      <td>0.095090</td>\n",
              "      <td>0.098072</td>\n",
              "      <td>-0.142590</td>\n",
              "      <td>0.174009</td>\n",
              "      <td>-0.174009</td>\n",
              "    </tr>\n",
              "    <tr>\n",
              "      <th>s58</th>\n",
              "      <td>-0.001367</td>\n",
              "      <td>-0.000146</td>\n",
              "      <td>0.007549</td>\n",
              "      <td>-0.002680</td>\n",
              "      <td>1.000000</td>\n",
              "      <td>-0.001527</td>\n",
              "      <td>0.000769</td>\n",
              "      <td>0.008489</td>\n",
              "      <td>0.005268</td>\n",
              "      <td>-0.000274</td>\n",
              "      <td>...</td>\n",
              "      <td>-0.009627</td>\n",
              "      <td>-0.002133</td>\n",
              "      <td>0.003402</td>\n",
              "      <td>-0.006135</td>\n",
              "      <td>0.004557</td>\n",
              "      <td>-0.004178</td>\n",
              "      <td>0.006819</td>\n",
              "      <td>-0.001985</td>\n",
              "      <td>-0.007430</td>\n",
              "      <td>0.007430</td>\n",
              "    </tr>\n",
              "    <tr>\n",
              "      <th>n1</th>\n",
              "      <td>-0.020535</td>\n",
              "      <td>0.094626</td>\n",
              "      <td>0.131443</td>\n",
              "      <td>-0.031168</td>\n",
              "      <td>-0.001527</td>\n",
              "      <td>1.000000</td>\n",
              "      <td>0.855794</td>\n",
              "      <td>0.289057</td>\n",
              "      <td>0.131877</td>\n",
              "      <td>0.166290</td>\n",
              "      <td>...</td>\n",
              "      <td>-0.101140</td>\n",
              "      <td>0.089906</td>\n",
              "      <td>-0.017440</td>\n",
              "      <td>0.068717</td>\n",
              "      <td>-0.059092</td>\n",
              "      <td>0.172751</td>\n",
              "      <td>0.011192</td>\n",
              "      <td>-0.135254</td>\n",
              "      <td>0.045172</td>\n",
              "      <td>-0.045172</td>\n",
              "    </tr>\n",
              "    <tr>\n",
              "      <th>n2</th>\n",
              "      <td>-0.032440</td>\n",
              "      <td>0.097933</td>\n",
              "      <td>0.156240</td>\n",
              "      <td>-0.033586</td>\n",
              "      <td>0.000769</td>\n",
              "      <td>0.855794</td>\n",
              "      <td>1.000000</td>\n",
              "      <td>0.321529</td>\n",
              "      <td>0.154993</td>\n",
              "      <td>0.135346</td>\n",
              "      <td>...</td>\n",
              "      <td>-0.087078</td>\n",
              "      <td>0.058699</td>\n",
              "      <td>-0.010416</td>\n",
              "      <td>0.043310</td>\n",
              "      <td>-0.037468</td>\n",
              "      <td>0.174557</td>\n",
              "      <td>-0.031839</td>\n",
              "      <td>-0.104680</td>\n",
              "      <td>0.036539</td>\n",
              "      <td>-0.036539</td>\n",
              "    </tr>\n",
              "    <tr>\n",
              "      <th>n3</th>\n",
              "      <td>-0.115219</td>\n",
              "      <td>0.147243</td>\n",
              "      <td>0.009444</td>\n",
              "      <td>0.051126</td>\n",
              "      <td>0.008489</td>\n",
              "      <td>0.289057</td>\n",
              "      <td>0.321529</td>\n",
              "      <td>1.000000</td>\n",
              "      <td>0.222131</td>\n",
              "      <td>-0.056097</td>\n",
              "      <td>...</td>\n",
              "      <td>-0.074042</td>\n",
              "      <td>-0.088215</td>\n",
              "      <td>-0.068743</td>\n",
              "      <td>-0.155104</td>\n",
              "      <td>0.175513</td>\n",
              "      <td>-0.007486</td>\n",
              "      <td>-0.022496</td>\n",
              "      <td>0.022179</td>\n",
              "      <td>-0.196268</td>\n",
              "      <td>0.196268</td>\n",
              "    </tr>\n",
              "    <tr>\n",
              "      <th>n4</th>\n",
              "      <td>-0.138501</td>\n",
              "      <td>0.087226</td>\n",
              "      <td>0.037484</td>\n",
              "      <td>-0.088057</td>\n",
              "      <td>0.005268</td>\n",
              "      <td>0.131877</td>\n",
              "      <td>0.154993</td>\n",
              "      <td>0.222131</td>\n",
              "      <td>1.000000</td>\n",
              "      <td>0.050772</td>\n",
              "      <td>...</td>\n",
              "      <td>-0.034539</td>\n",
              "      <td>-0.134858</td>\n",
              "      <td>-0.040504</td>\n",
              "      <td>-0.125959</td>\n",
              "      <td>0.136561</td>\n",
              "      <td>0.041911</td>\n",
              "      <td>-0.036495</td>\n",
              "      <td>-0.003745</td>\n",
              "      <td>-0.060286</td>\n",
              "      <td>0.060286</td>\n",
              "    </tr>\n",
              "    <tr>\n",
              "      <th>n5</th>\n",
              "      <td>-0.075954</td>\n",
              "      <td>0.011796</td>\n",
              "      <td>-0.062526</td>\n",
              "      <td>0.007119</td>\n",
              "      <td>-0.000274</td>\n",
              "      <td>0.166290</td>\n",
              "      <td>0.135346</td>\n",
              "      <td>-0.056097</td>\n",
              "      <td>0.050772</td>\n",
              "      <td>1.000000</td>\n",
              "      <td>...</td>\n",
              "      <td>0.024811</td>\n",
              "      <td>0.094096</td>\n",
              "      <td>0.010143</td>\n",
              "      <td>0.090689</td>\n",
              "      <td>-0.090910</td>\n",
              "      <td>0.153307</td>\n",
              "      <td>0.046575</td>\n",
              "      <td>-0.147197</td>\n",
              "      <td>0.119030</td>\n",
              "      <td>-0.119030</td>\n",
              "    </tr>\n",
              "    <tr>\n",
              "      <th>n6</th>\n",
              "      <td>0.001879</td>\n",
              "      <td>0.002684</td>\n",
              "      <td>-0.046553</td>\n",
              "      <td>-0.116692</td>\n",
              "      <td>-0.007552</td>\n",
              "      <td>0.081274</td>\n",
              "      <td>0.026397</td>\n",
              "      <td>-0.425036</td>\n",
              "      <td>-0.088265</td>\n",
              "      <td>0.426532</td>\n",
              "      <td>...</td>\n",
              "      <td>0.042912</td>\n",
              "      <td>0.076710</td>\n",
              "      <td>0.063825</td>\n",
              "      <td>0.114609</td>\n",
              "      <td>-0.134767</td>\n",
              "      <td>0.124787</td>\n",
              "      <td>0.029060</td>\n",
              "      <td>-0.113252</td>\n",
              "      <td>0.166513</td>\n",
              "      <td>-0.166513</td>\n",
              "    </tr>\n",
              "    <tr>\n",
              "      <th>n7</th>\n",
              "      <td>-0.048931</td>\n",
              "      <td>0.107899</td>\n",
              "      <td>0.104793</td>\n",
              "      <td>0.026812</td>\n",
              "      <td>0.007867</td>\n",
              "      <td>0.602224</td>\n",
              "      <td>0.624320</td>\n",
              "      <td>0.640050</td>\n",
              "      <td>0.223498</td>\n",
              "      <td>-0.093723</td>\n",
              "      <td>...</td>\n",
              "      <td>-0.101875</td>\n",
              "      <td>-0.032520</td>\n",
              "      <td>-0.046633</td>\n",
              "      <td>-0.078927</td>\n",
              "      <td>0.093853</td>\n",
              "      <td>0.063276</td>\n",
              "      <td>-0.023451</td>\n",
              "      <td>-0.029117</td>\n",
              "      <td>-0.120688</td>\n",
              "      <td>0.120688</td>\n",
              "    </tr>\n",
              "    <tr>\n",
              "      <th>n8</th>\n",
              "      <td>0.098827</td>\n",
              "      <td>0.069586</td>\n",
              "      <td>0.018563</td>\n",
              "      <td>-0.010002</td>\n",
              "      <td>-0.002210</td>\n",
              "      <td>0.662666</td>\n",
              "      <td>0.648843</td>\n",
              "      <td>0.220419</td>\n",
              "      <td>0.058810</td>\n",
              "      <td>0.105349</td>\n",
              "      <td>...</td>\n",
              "      <td>-0.054252</td>\n",
              "      <td>0.138144</td>\n",
              "      <td>0.029835</td>\n",
              "      <td>0.111496</td>\n",
              "      <td>-0.118535</td>\n",
              "      <td>0.189175</td>\n",
              "      <td>-0.000979</td>\n",
              "      <td>-0.138302</td>\n",
              "      <td>0.079279</td>\n",
              "      <td>-0.079279</td>\n",
              "    </tr>\n",
              "    <tr>\n",
              "      <th>n9</th>\n",
              "      <td>-0.073935</td>\n",
              "      <td>-0.008499</td>\n",
              "      <td>0.048050</td>\n",
              "      <td>0.092835</td>\n",
              "      <td>0.005528</td>\n",
              "      <td>0.393686</td>\n",
              "      <td>0.401184</td>\n",
              "      <td>0.395780</td>\n",
              "      <td>0.168241</td>\n",
              "      <td>0.124063</td>\n",
              "      <td>...</td>\n",
              "      <td>-0.064231</td>\n",
              "      <td>0.017120</td>\n",
              "      <td>-0.038650</td>\n",
              "      <td>-0.021847</td>\n",
              "      <td>0.036011</td>\n",
              "      <td>0.118560</td>\n",
              "      <td>-0.021479</td>\n",
              "      <td>-0.071208</td>\n",
              "      <td>0.005604</td>\n",
              "      <td>-0.005604</td>\n",
              "    </tr>\n",
              "    <tr>\n",
              "      <th>n10</th>\n",
              "      <td>-0.017454</td>\n",
              "      <td>0.059767</td>\n",
              "      <td>0.148752</td>\n",
              "      <td>0.055772</td>\n",
              "      <td>0.005295</td>\n",
              "      <td>0.490394</td>\n",
              "      <td>0.525765</td>\n",
              "      <td>0.604656</td>\n",
              "      <td>0.204752</td>\n",
              "      <td>-0.160737</td>\n",
              "      <td>...</td>\n",
              "      <td>-0.081445</td>\n",
              "      <td>-0.049256</td>\n",
              "      <td>-0.060481</td>\n",
              "      <td>-0.070076</td>\n",
              "      <td>0.090764</td>\n",
              "      <td>0.044345</td>\n",
              "      <td>-0.035352</td>\n",
              "      <td>-0.006382</td>\n",
              "      <td>-0.112663</td>\n",
              "      <td>0.112663</td>\n",
              "    </tr>\n",
              "    <tr>\n",
              "      <th>n11</th>\n",
              "      <td>0.011116</td>\n",
              "      <td>0.001172</td>\n",
              "      <td>-0.000980</td>\n",
              "      <td>0.000968</td>\n",
              "      <td>-0.003889</td>\n",
              "      <td>-0.004650</td>\n",
              "      <td>-0.006222</td>\n",
              "      <td>-0.000420</td>\n",
              "      <td>-0.010558</td>\n",
              "      <td>0.005097</td>\n",
              "      <td>...</td>\n",
              "      <td>0.003483</td>\n",
              "      <td>-0.000151</td>\n",
              "      <td>-0.001774</td>\n",
              "      <td>-0.003837</td>\n",
              "      <td>0.004370</td>\n",
              "      <td>-0.006943</td>\n",
              "      <td>0.003611</td>\n",
              "      <td>0.002426</td>\n",
              "      <td>-0.008888</td>\n",
              "      <td>0.008888</td>\n",
              "    </tr>\n",
              "    <tr>\n",
              "      <th>n13</th>\n",
              "      <td>0.001771</td>\n",
              "      <td>-0.008851</td>\n",
              "      <td>0.008978</td>\n",
              "      <td>0.003117</td>\n",
              "      <td>0.004879</td>\n",
              "      <td>0.010118</td>\n",
              "      <td>0.014115</td>\n",
              "      <td>0.002704</td>\n",
              "      <td>0.007066</td>\n",
              "      <td>0.001276</td>\n",
              "      <td>...</td>\n",
              "      <td>-0.013325</td>\n",
              "      <td>0.009259</td>\n",
              "      <td>0.010958</td>\n",
              "      <td>0.003847</td>\n",
              "      <td>-0.007959</td>\n",
              "      <td>0.003746</td>\n",
              "      <td>0.001079</td>\n",
              "      <td>-0.003553</td>\n",
              "      <td>0.009451</td>\n",
              "      <td>-0.009451</td>\n",
              "    </tr>\n",
              "    <tr>\n",
              "      <th>n14</th>\n",
              "      <td>0.011282</td>\n",
              "      <td>-0.008947</td>\n",
              "      <td>0.001485</td>\n",
              "      <td>0.005858</td>\n",
              "      <td>-0.001413</td>\n",
              "      <td>-0.002616</td>\n",
              "      <td>-0.002258</td>\n",
              "      <td>-0.006510</td>\n",
              "      <td>0.000621</td>\n",
              "      <td>-0.014498</td>\n",
              "      <td>...</td>\n",
              "      <td>0.002834</td>\n",
              "      <td>0.003301</td>\n",
              "      <td>0.008402</td>\n",
              "      <td>0.003683</td>\n",
              "      <td>-0.006805</td>\n",
              "      <td>0.004367</td>\n",
              "      <td>0.005686</td>\n",
              "      <td>-0.007425</td>\n",
              "      <td>0.002534</td>\n",
              "      <td>-0.002534</td>\n",
              "    </tr>\n",
              "    <tr>\n",
              "      <th>n15</th>\n",
              "      <td>0.005253</td>\n",
              "      <td>0.004480</td>\n",
              "      <td>0.003488</td>\n",
              "      <td>0.008473</td>\n",
              "      <td>0.003263</td>\n",
              "      <td>-0.006759</td>\n",
              "      <td>-0.006553</td>\n",
              "      <td>-0.005514</td>\n",
              "      <td>-0.000099</td>\n",
              "      <td>0.000468</td>\n",
              "      <td>...</td>\n",
              "      <td>0.004463</td>\n",
              "      <td>0.014369</td>\n",
              "      <td>0.003913</td>\n",
              "      <td>0.003254</td>\n",
              "      <td>-0.004645</td>\n",
              "      <td>0.007184</td>\n",
              "      <td>-0.003771</td>\n",
              "      <td>-0.002485</td>\n",
              "      <td>0.004733</td>\n",
              "      <td>-0.004733</td>\n",
              "    </tr>\n",
              "    <tr>\n",
              "      <th>label</th>\n",
              "      <td>0.223399</td>\n",
              "      <td>-0.252741</td>\n",
              "      <td>0.060475</td>\n",
              "      <td>0.248349</td>\n",
              "      <td>-0.005403</td>\n",
              "      <td>0.142913</td>\n",
              "      <td>0.120631</td>\n",
              "      <td>-0.123280</td>\n",
              "      <td>-0.069697</td>\n",
              "      <td>0.183936</td>\n",
              "      <td>...</td>\n",
              "      <td>-0.027991</td>\n",
              "      <td>0.427854</td>\n",
              "      <td>-0.006937</td>\n",
              "      <td>0.472407</td>\n",
              "      <td>-0.450260</td>\n",
              "      <td>0.200457</td>\n",
              "      <td>0.121444</td>\n",
              "      <td>-0.237352</td>\n",
              "      <td>0.385626</td>\n",
              "      <td>-0.385626</td>\n",
              "    </tr>\n",
              "    <tr>\n",
              "      <th>s16_B</th>\n",
              "      <td>0.289242</td>\n",
              "      <td>-0.339073</td>\n",
              "      <td>0.129785</td>\n",
              "      <td>0.311789</td>\n",
              "      <td>-0.006135</td>\n",
              "      <td>0.068717</td>\n",
              "      <td>0.043310</td>\n",
              "      <td>-0.155104</td>\n",
              "      <td>-0.125959</td>\n",
              "      <td>0.090689</td>\n",
              "      <td>...</td>\n",
              "      <td>-0.049921</td>\n",
              "      <td>0.617090</td>\n",
              "      <td>-0.095367</td>\n",
              "      <td>1.000000</td>\n",
              "      <td>-0.921674</td>\n",
              "      <td>0.194394</td>\n",
              "      <td>0.138201</td>\n",
              "      <td>-0.245320</td>\n",
              "      <td>0.486689</td>\n",
              "      <td>-0.486689</td>\n",
              "    </tr>\n",
              "    <tr>\n",
              "      <th>s16_D</th>\n",
              "      <td>-0.279552</td>\n",
              "      <td>0.313882</td>\n",
              "      <td>-0.114022</td>\n",
              "      <td>-0.282586</td>\n",
              "      <td>0.004557</td>\n",
              "      <td>-0.059092</td>\n",
              "      <td>-0.037468</td>\n",
              "      <td>0.175513</td>\n",
              "      <td>0.136561</td>\n",
              "      <td>-0.090910</td>\n",
              "      <td>...</td>\n",
              "      <td>0.006283</td>\n",
              "      <td>-0.594790</td>\n",
              "      <td>-0.298300</td>\n",
              "      <td>-0.921674</td>\n",
              "      <td>1.000000</td>\n",
              "      <td>-0.232312</td>\n",
              "      <td>-0.125805</td>\n",
              "      <td>0.263996</td>\n",
              "      <td>-0.493502</td>\n",
              "      <td>0.493502</td>\n",
              "    </tr>\n",
              "    <tr>\n",
              "      <th>s16_Other</th>\n",
              "      <td>0.005683</td>\n",
              "      <td>0.028829</td>\n",
              "      <td>-0.026739</td>\n",
              "      <td>-0.042005</td>\n",
              "      <td>0.003402</td>\n",
              "      <td>-0.017440</td>\n",
              "      <td>-0.010416</td>\n",
              "      <td>-0.068743</td>\n",
              "      <td>-0.040504</td>\n",
              "      <td>0.010143</td>\n",
              "      <td>...</td>\n",
              "      <td>0.106693</td>\n",
              "      <td>0.007949</td>\n",
              "      <td>1.000000</td>\n",
              "      <td>-0.095367</td>\n",
              "      <td>-0.298300</td>\n",
              "      <td>0.117818</td>\n",
              "      <td>-0.017213</td>\n",
              "      <td>-0.073825</td>\n",
              "      <td>0.068877</td>\n",
              "      <td>-0.068877</td>\n",
              "    </tr>\n",
              "    <tr>\n",
              "      <th>s17_A</th>\n",
              "      <td>0.006195</td>\n",
              "      <td>0.016763</td>\n",
              "      <td>0.011857</td>\n",
              "      <td>-0.003514</td>\n",
              "      <td>0.002516</td>\n",
              "      <td>-0.010376</td>\n",
              "      <td>-0.005814</td>\n",
              "      <td>-0.008646</td>\n",
              "      <td>0.000446</td>\n",
              "      <td>-0.002786</td>\n",
              "      <td>...</td>\n",
              "      <td>0.105839</td>\n",
              "      <td>-0.016519</td>\n",
              "      <td>0.159056</td>\n",
              "      <td>-0.027836</td>\n",
              "      <td>-0.035301</td>\n",
              "      <td>0.254760</td>\n",
              "      <td>-0.020975</td>\n",
              "      <td>-0.171677</td>\n",
              "      <td>0.054034</td>\n",
              "      <td>-0.054034</td>\n",
              "    </tr>\n",
              "    <tr>\n",
              "      <th>s17_B</th>\n",
              "      <td>0.081431</td>\n",
              "      <td>-0.028230</td>\n",
              "      <td>-0.051100</td>\n",
              "      <td>0.098072</td>\n",
              "      <td>0.006819</td>\n",
              "      <td>0.011192</td>\n",
              "      <td>-0.031839</td>\n",
              "      <td>-0.022496</td>\n",
              "      <td>-0.036495</td>\n",
              "      <td>0.046575</td>\n",
              "      <td>...</td>\n",
              "      <td>-0.036929</td>\n",
              "      <td>0.123313</td>\n",
              "      <td>-0.017213</td>\n",
              "      <td>0.138201</td>\n",
              "      <td>-0.125805</td>\n",
              "      <td>-0.082331</td>\n",
              "      <td>1.000000</td>\n",
              "      <td>-0.680853</td>\n",
              "      <td>0.050613</td>\n",
              "      <td>-0.050613</td>\n",
              "    </tr>\n",
              "    <tr>\n",
              "      <th>s17_C</th>\n",
              "      <td>0.042055</td>\n",
              "      <td>-0.013098</td>\n",
              "      <td>0.048374</td>\n",
              "      <td>0.099311</td>\n",
              "      <td>-0.005033</td>\n",
              "      <td>0.181550</td>\n",
              "      <td>0.182124</td>\n",
              "      <td>-0.005290</td>\n",
              "      <td>0.043206</td>\n",
              "      <td>0.159296</td>\n",
              "      <td>...</td>\n",
              "      <td>-0.016856</td>\n",
              "      <td>0.223182</td>\n",
              "      <td>0.076743</td>\n",
              "      <td>0.208875</td>\n",
              "      <td>-0.230188</td>\n",
              "      <td>0.961725</td>\n",
              "      <td>-0.079180</td>\n",
              "      <td>-0.648085</td>\n",
              "      <td>0.293469</td>\n",
              "      <td>-0.293469</td>\n",
              "    </tr>\n",
              "    <tr>\n",
              "      <th>s17_D</th>\n",
              "      <td>-0.091511</td>\n",
              "      <td>0.026862</td>\n",
              "      <td>0.001111</td>\n",
              "      <td>-0.142590</td>\n",
              "      <td>-0.001985</td>\n",
              "      <td>-0.135254</td>\n",
              "      <td>-0.104680</td>\n",
              "      <td>0.022179</td>\n",
              "      <td>-0.003745</td>\n",
              "      <td>-0.147197</td>\n",
              "      <td>...</td>\n",
              "      <td>0.018042</td>\n",
              "      <td>-0.246731</td>\n",
              "      <td>-0.073825</td>\n",
              "      <td>-0.245320</td>\n",
              "      <td>0.263996</td>\n",
              "      <td>-0.673878</td>\n",
              "      <td>-0.680853</td>\n",
              "      <td>1.000000</td>\n",
              "      <td>-0.257005</td>\n",
              "      <td>0.257005</td>\n",
              "    </tr>\n",
              "    <tr>\n",
              "      <th>s18_B</th>\n",
              "      <td>-0.179860</td>\n",
              "      <td>0.341616</td>\n",
              "      <td>-0.092750</td>\n",
              "      <td>-0.174009</td>\n",
              "      <td>0.007430</td>\n",
              "      <td>-0.045172</td>\n",
              "      <td>-0.036539</td>\n",
              "      <td>0.196268</td>\n",
              "      <td>0.060286</td>\n",
              "      <td>-0.119030</td>\n",
              "      <td>...</td>\n",
              "      <td>0.017840</td>\n",
              "      <td>-0.405851</td>\n",
              "      <td>-0.068877</td>\n",
              "      <td>-0.486689</td>\n",
              "      <td>0.493502</td>\n",
              "      <td>-0.298651</td>\n",
              "      <td>-0.050613</td>\n",
              "      <td>0.257005</td>\n",
              "      <td>-1.000000</td>\n",
              "      <td>1.000000</td>\n",
              "    </tr>\n",
              "    <tr>\n",
              "      <th>s18_Other</th>\n",
              "      <td>0.179860</td>\n",
              "      <td>-0.341616</td>\n",
              "      <td>0.092750</td>\n",
              "      <td>0.174009</td>\n",
              "      <td>-0.007430</td>\n",
              "      <td>0.045172</td>\n",
              "      <td>0.036539</td>\n",
              "      <td>-0.196268</td>\n",
              "      <td>-0.060286</td>\n",
              "      <td>0.119030</td>\n",
              "      <td>...</td>\n",
              "      <td>-0.017840</td>\n",
              "      <td>0.405851</td>\n",
              "      <td>0.068877</td>\n",
              "      <td>0.486689</td>\n",
              "      <td>-0.493502</td>\n",
              "      <td>0.298651</td>\n",
              "      <td>0.050613</td>\n",
              "      <td>-0.257005</td>\n",
              "      <td>1.000000</td>\n",
              "      <td>-1.000000</td>\n",
              "    </tr>\n",
              "    <tr>\n",
              "      <th>s52_1</th>\n",
              "      <td>-0.248496</td>\n",
              "      <td>0.176584</td>\n",
              "      <td>-0.104625</td>\n",
              "      <td>-0.299383</td>\n",
              "      <td>0.006502</td>\n",
              "      <td>-0.037465</td>\n",
              "      <td>-0.014638</td>\n",
              "      <td>0.117644</td>\n",
              "      <td>0.143134</td>\n",
              "      <td>-0.100203</td>\n",
              "      <td>...</td>\n",
              "      <td>-0.354401</td>\n",
              "      <td>-0.886126</td>\n",
              "      <td>-0.057289</td>\n",
              "      <td>-0.557887</td>\n",
              "      <td>0.557254</td>\n",
              "      <td>-0.204968</td>\n",
              "      <td>-0.098901</td>\n",
              "      <td>0.223955</td>\n",
              "      <td>-0.373913</td>\n",
              "      <td>0.373913</td>\n",
              "    </tr>\n",
              "    <tr>\n",
              "      <th>s52_Other</th>\n",
              "      <td>0.015093</td>\n",
              "      <td>0.048722</td>\n",
              "      <td>0.022399</td>\n",
              "      <td>-0.016405</td>\n",
              "      <td>-0.009627</td>\n",
              "      <td>-0.101140</td>\n",
              "      <td>-0.087078</td>\n",
              "      <td>-0.074042</td>\n",
              "      <td>-0.034539</td>\n",
              "      <td>0.024811</td>\n",
              "      <td>...</td>\n",
              "      <td>1.000000</td>\n",
              "      <td>-0.119320</td>\n",
              "      <td>0.106693</td>\n",
              "      <td>-0.049921</td>\n",
              "      <td>0.006283</td>\n",
              "      <td>0.012704</td>\n",
              "      <td>-0.036929</td>\n",
              "      <td>0.018042</td>\n",
              "      <td>-0.017840</td>\n",
              "      <td>0.017840</td>\n",
              "    </tr>\n",
              "    <tr>\n",
              "      <th>s52_l</th>\n",
              "      <td>0.256366</td>\n",
              "      <td>-0.211639</td>\n",
              "      <td>0.099987</td>\n",
              "      <td>0.326007</td>\n",
              "      <td>-0.002133</td>\n",
              "      <td>0.089906</td>\n",
              "      <td>0.058699</td>\n",
              "      <td>-0.088215</td>\n",
              "      <td>-0.134858</td>\n",
              "      <td>0.094096</td>\n",
              "      <td>...</td>\n",
              "      <td>-0.119320</td>\n",
              "      <td>1.000000</td>\n",
              "      <td>0.007949</td>\n",
              "      <td>0.617090</td>\n",
              "      <td>-0.594790</td>\n",
              "      <td>0.211334</td>\n",
              "      <td>0.123313</td>\n",
              "      <td>-0.246731</td>\n",
              "      <td>0.405851</td>\n",
              "      <td>-0.405851</td>\n",
              "    </tr>\n",
              "    <tr>\n",
              "      <th>s69_Other</th>\n",
              "      <td>0.005683</td>\n",
              "      <td>0.028829</td>\n",
              "      <td>-0.026739</td>\n",
              "      <td>-0.042005</td>\n",
              "      <td>0.003402</td>\n",
              "      <td>-0.017440</td>\n",
              "      <td>-0.010416</td>\n",
              "      <td>-0.068743</td>\n",
              "      <td>-0.040504</td>\n",
              "      <td>0.010143</td>\n",
              "      <td>...</td>\n",
              "      <td>0.106693</td>\n",
              "      <td>0.007949</td>\n",
              "      <td>1.000000</td>\n",
              "      <td>-0.095367</td>\n",
              "      <td>-0.298300</td>\n",
              "      <td>0.117818</td>\n",
              "      <td>-0.017213</td>\n",
              "      <td>-0.073825</td>\n",
              "      <td>0.068877</td>\n",
              "      <td>-0.068877</td>\n",
              "    </tr>\n",
              "    <tr>\n",
              "      <th>s69_a</th>\n",
              "      <td>0.289242</td>\n",
              "      <td>-0.339073</td>\n",
              "      <td>0.129785</td>\n",
              "      <td>0.311789</td>\n",
              "      <td>-0.006135</td>\n",
              "      <td>0.068717</td>\n",
              "      <td>0.043310</td>\n",
              "      <td>-0.155104</td>\n",
              "      <td>-0.125959</td>\n",
              "      <td>0.090689</td>\n",
              "      <td>...</td>\n",
              "      <td>-0.049921</td>\n",
              "      <td>0.617090</td>\n",
              "      <td>-0.095367</td>\n",
              "      <td>1.000000</td>\n",
              "      <td>-0.921674</td>\n",
              "      <td>0.194394</td>\n",
              "      <td>0.138201</td>\n",
              "      <td>-0.245320</td>\n",
              "      <td>0.486689</td>\n",
              "      <td>-0.486689</td>\n",
              "    </tr>\n",
              "    <tr>\n",
              "      <th>s69_b</th>\n",
              "      <td>-0.279552</td>\n",
              "      <td>0.313882</td>\n",
              "      <td>-0.114022</td>\n",
              "      <td>-0.282586</td>\n",
              "      <td>0.004557</td>\n",
              "      <td>-0.059092</td>\n",
              "      <td>-0.037468</td>\n",
              "      <td>0.175513</td>\n",
              "      <td>0.136561</td>\n",
              "      <td>-0.090910</td>\n",
              "      <td>...</td>\n",
              "      <td>0.006283</td>\n",
              "      <td>-0.594790</td>\n",
              "      <td>-0.298300</td>\n",
              "      <td>-0.921674</td>\n",
              "      <td>1.000000</td>\n",
              "      <td>-0.232312</td>\n",
              "      <td>-0.125805</td>\n",
              "      <td>0.263996</td>\n",
              "      <td>-0.493502</td>\n",
              "      <td>0.493502</td>\n",
              "    </tr>\n",
              "    <tr>\n",
              "      <th>s70_Other</th>\n",
              "      <td>0.042374</td>\n",
              "      <td>-0.008074</td>\n",
              "      <td>0.050037</td>\n",
              "      <td>0.095090</td>\n",
              "      <td>-0.004178</td>\n",
              "      <td>0.172751</td>\n",
              "      <td>0.174557</td>\n",
              "      <td>-0.007486</td>\n",
              "      <td>0.041911</td>\n",
              "      <td>0.153307</td>\n",
              "      <td>...</td>\n",
              "      <td>0.012704</td>\n",
              "      <td>0.211334</td>\n",
              "      <td>0.117818</td>\n",
              "      <td>0.194394</td>\n",
              "      <td>-0.232312</td>\n",
              "      <td>1.000000</td>\n",
              "      <td>-0.082331</td>\n",
              "      <td>-0.673878</td>\n",
              "      <td>0.298651</td>\n",
              "      <td>-0.298651</td>\n",
              "    </tr>\n",
              "    <tr>\n",
              "      <th>s70_op: B</th>\n",
              "      <td>0.081431</td>\n",
              "      <td>-0.028230</td>\n",
              "      <td>-0.051100</td>\n",
              "      <td>0.098072</td>\n",
              "      <td>0.006819</td>\n",
              "      <td>0.011192</td>\n",
              "      <td>-0.031839</td>\n",
              "      <td>-0.022496</td>\n",
              "      <td>-0.036495</td>\n",
              "      <td>0.046575</td>\n",
              "      <td>...</td>\n",
              "      <td>-0.036929</td>\n",
              "      <td>0.123313</td>\n",
              "      <td>-0.017213</td>\n",
              "      <td>0.138201</td>\n",
              "      <td>-0.125805</td>\n",
              "      <td>-0.082331</td>\n",
              "      <td>1.000000</td>\n",
              "      <td>-0.680853</td>\n",
              "      <td>0.050613</td>\n",
              "      <td>-0.050613</td>\n",
              "    </tr>\n",
              "    <tr>\n",
              "      <th>s70_op: D</th>\n",
              "      <td>-0.091511</td>\n",
              "      <td>0.026862</td>\n",
              "      <td>0.001111</td>\n",
              "      <td>-0.142590</td>\n",
              "      <td>-0.001985</td>\n",
              "      <td>-0.135254</td>\n",
              "      <td>-0.104680</td>\n",
              "      <td>0.022179</td>\n",
              "      <td>-0.003745</td>\n",
              "      <td>-0.147197</td>\n",
              "      <td>...</td>\n",
              "      <td>0.018042</td>\n",
              "      <td>-0.246731</td>\n",
              "      <td>-0.073825</td>\n",
              "      <td>-0.245320</td>\n",
              "      <td>0.263996</td>\n",
              "      <td>-0.673878</td>\n",
              "      <td>-0.680853</td>\n",
              "      <td>1.000000</td>\n",
              "      <td>-0.257005</td>\n",
              "      <td>0.257005</td>\n",
              "    </tr>\n",
              "    <tr>\n",
              "      <th>s71_Other</th>\n",
              "      <td>0.179860</td>\n",
              "      <td>-0.341616</td>\n",
              "      <td>0.092750</td>\n",
              "      <td>0.174009</td>\n",
              "      <td>-0.007430</td>\n",
              "      <td>0.045172</td>\n",
              "      <td>0.036539</td>\n",
              "      <td>-0.196268</td>\n",
              "      <td>-0.060286</td>\n",
              "      <td>0.119030</td>\n",
              "      <td>...</td>\n",
              "      <td>-0.017840</td>\n",
              "      <td>0.405851</td>\n",
              "      <td>0.068877</td>\n",
              "      <td>0.486689</td>\n",
              "      <td>-0.493502</td>\n",
              "      <td>0.298651</td>\n",
              "      <td>0.050613</td>\n",
              "      <td>-0.257005</td>\n",
              "      <td>1.000000</td>\n",
              "      <td>-1.000000</td>\n",
              "    </tr>\n",
              "    <tr>\n",
              "      <th>s71_b</th>\n",
              "      <td>-0.179860</td>\n",
              "      <td>0.341616</td>\n",
              "      <td>-0.092750</td>\n",
              "      <td>-0.174009</td>\n",
              "      <td>0.007430</td>\n",
              "      <td>-0.045172</td>\n",
              "      <td>-0.036539</td>\n",
              "      <td>0.196268</td>\n",
              "      <td>0.060286</td>\n",
              "      <td>-0.119030</td>\n",
              "      <td>...</td>\n",
              "      <td>0.017840</td>\n",
              "      <td>-0.405851</td>\n",
              "      <td>-0.068877</td>\n",
              "      <td>-0.486689</td>\n",
              "      <td>0.493502</td>\n",
              "      <td>-0.298651</td>\n",
              "      <td>-0.050613</td>\n",
              "      <td>0.257005</td>\n",
              "      <td>-1.000000</td>\n",
              "      <td>1.000000</td>\n",
              "    </tr>\n",
              "  </tbody>\n",
              "</table>\n",
              "<p>40 rows × 40 columns</p>\n",
              "</div>\n",
              "      <button class=\"colab-df-convert\" onclick=\"convertToInteractive('df-46de19e4-151d-419c-8bbd-20325e726b20')\"\n",
              "              title=\"Convert this dataframe to an interactive table.\"\n",
              "              style=\"display:none;\">\n",
              "        \n",
              "  <svg xmlns=\"http://www.w3.org/2000/svg\" height=\"24px\"viewBox=\"0 0 24 24\"\n",
              "       width=\"24px\">\n",
              "    <path d=\"M0 0h24v24H0V0z\" fill=\"none\"/>\n",
              "    <path d=\"M18.56 5.44l.94 2.06.94-2.06 2.06-.94-2.06-.94-.94-2.06-.94 2.06-2.06.94zm-11 1L8.5 8.5l.94-2.06 2.06-.94-2.06-.94L8.5 2.5l-.94 2.06-2.06.94zm10 10l.94 2.06.94-2.06 2.06-.94-2.06-.94-.94-2.06-.94 2.06-2.06.94z\"/><path d=\"M17.41 7.96l-1.37-1.37c-.4-.4-.92-.59-1.43-.59-.52 0-1.04.2-1.43.59L10.3 9.45l-7.72 7.72c-.78.78-.78 2.05 0 2.83L4 21.41c.39.39.9.59 1.41.59.51 0 1.02-.2 1.41-.59l7.78-7.78 2.81-2.81c.8-.78.8-2.07 0-2.86zM5.41 20L4 18.59l7.72-7.72 1.47 1.35L5.41 20z\"/>\n",
              "  </svg>\n",
              "      </button>\n",
              "      \n",
              "  <style>\n",
              "    .colab-df-container {\n",
              "      display:flex;\n",
              "      flex-wrap:wrap;\n",
              "      gap: 12px;\n",
              "    }\n",
              "\n",
              "    .colab-df-convert {\n",
              "      background-color: #E8F0FE;\n",
              "      border: none;\n",
              "      border-radius: 50%;\n",
              "      cursor: pointer;\n",
              "      display: none;\n",
              "      fill: #1967D2;\n",
              "      height: 32px;\n",
              "      padding: 0 0 0 0;\n",
              "      width: 32px;\n",
              "    }\n",
              "\n",
              "    .colab-df-convert:hover {\n",
              "      background-color: #E2EBFA;\n",
              "      box-shadow: 0px 1px 2px rgba(60, 64, 67, 0.3), 0px 1px 3px 1px rgba(60, 64, 67, 0.15);\n",
              "      fill: #174EA6;\n",
              "    }\n",
              "\n",
              "    [theme=dark] .colab-df-convert {\n",
              "      background-color: #3B4455;\n",
              "      fill: #D2E3FC;\n",
              "    }\n",
              "\n",
              "    [theme=dark] .colab-df-convert:hover {\n",
              "      background-color: #434B5C;\n",
              "      box-shadow: 0px 1px 3px 1px rgba(0, 0, 0, 0.15);\n",
              "      filter: drop-shadow(0px 1px 2px rgba(0, 0, 0, 0.3));\n",
              "      fill: #FFFFFF;\n",
              "    }\n",
              "  </style>\n",
              "\n",
              "      <script>\n",
              "        const buttonEl =\n",
              "          document.querySelector('#df-46de19e4-151d-419c-8bbd-20325e726b20 button.colab-df-convert');\n",
              "        buttonEl.style.display =\n",
              "          google.colab.kernel.accessAllowed ? 'block' : 'none';\n",
              "\n",
              "        async function convertToInteractive(key) {\n",
              "          const element = document.querySelector('#df-46de19e4-151d-419c-8bbd-20325e726b20');\n",
              "          const dataTable =\n",
              "            await google.colab.kernel.invokeFunction('convertToInteractive',\n",
              "                                                     [key], {});\n",
              "          if (!dataTable) return;\n",
              "\n",
              "          const docLinkHtml = 'Like what you see? Visit the ' +\n",
              "            '<a target=\"_blank\" href=https://colab.research.google.com/notebooks/data_table.ipynb>data table notebook</a>'\n",
              "            + ' to learn more about interactive tables.';\n",
              "          element.innerHTML = '';\n",
              "          dataTable['output_type'] = 'display_data';\n",
              "          await google.colab.output.renderOutput(dataTable, element);\n",
              "          const docLink = document.createElement('div');\n",
              "          docLink.innerHTML = docLinkHtml;\n",
              "          element.appendChild(docLink);\n",
              "        }\n",
              "      </script>\n",
              "    </div>\n",
              "  </div>\n",
              "  "
            ]
          },
          "metadata": {},
          "execution_count": 52
        }
      ]
    },
    {
      "cell_type": "code",
      "source": [
        "data_filtered_test.head()"
      ],
      "metadata": {
        "colab": {
          "base_uri": "https://localhost:8080/",
          "height": 317
        },
        "id": "1hswiR8-ljwS",
        "outputId": "e58497e2-34c3-4988-c386-9e33b5ed6cfc"
      },
      "execution_count": null,
      "outputs": [
        {
          "output_type": "execute_result",
          "data": {
            "text/plain": [
              "   gender  s11  s12  s48  s58         n1        n2  n3        n4         n5  \\\n",
              "0       1    1    1    0    1  17.362752  2.985283   3  2.052415 -32.339904   \n",
              "1       1    1    1    1    0  15.892228  2.389056   7  6.928142 -32.356092   \n",
              "2       1    1    0    1    1  10.893303  1.470903   6  2.210629 -32.397871   \n",
              "3       1    1    1    0    1   9.876850  1.442493   3  2.350379 -32.836003   \n",
              "4       1    1    1    1    1  11.674406  2.544719   8  8.136887 -32.577495   \n",
              "\n",
              "   ...  s69_a  s69_b  s70_Other  s70_op: B  s70_op: C  s70_op: D  s71_Other  \\\n",
              "0  ...      1      0          0          0          0          1          0   \n",
              "1  ...      1      0          0          0          1          0          0   \n",
              "2  ...      1      0          0          0          0          1          0   \n",
              "3  ...      0      1          0          0          0          1          0   \n",
              "4  ...      0      1          0          0          1          0          0   \n",
              "\n",
              "   s71_b  s71_c  s71_d  \n",
              "0      0      0      1  \n",
              "1      1      0      0  \n",
              "2      1      0      0  \n",
              "3      1      0      0  \n",
              "4      1      0      0  \n",
              "\n",
              "[5 rows x 45 columns]"
            ],
            "text/html": [
              "\n",
              "  <div id=\"df-998ac2eb-0d53-406e-9a1c-7cf3cffef11d\">\n",
              "    <div class=\"colab-df-container\">\n",
              "      <div>\n",
              "<style scoped>\n",
              "    .dataframe tbody tr th:only-of-type {\n",
              "        vertical-align: middle;\n",
              "    }\n",
              "\n",
              "    .dataframe tbody tr th {\n",
              "        vertical-align: top;\n",
              "    }\n",
              "\n",
              "    .dataframe thead th {\n",
              "        text-align: right;\n",
              "    }\n",
              "</style>\n",
              "<table border=\"1\" class=\"dataframe\">\n",
              "  <thead>\n",
              "    <tr style=\"text-align: right;\">\n",
              "      <th></th>\n",
              "      <th>gender</th>\n",
              "      <th>s11</th>\n",
              "      <th>s12</th>\n",
              "      <th>s48</th>\n",
              "      <th>s58</th>\n",
              "      <th>n1</th>\n",
              "      <th>n2</th>\n",
              "      <th>n3</th>\n",
              "      <th>n4</th>\n",
              "      <th>n5</th>\n",
              "      <th>...</th>\n",
              "      <th>s69_a</th>\n",
              "      <th>s69_b</th>\n",
              "      <th>s70_Other</th>\n",
              "      <th>s70_op: B</th>\n",
              "      <th>s70_op: C</th>\n",
              "      <th>s70_op: D</th>\n",
              "      <th>s71_Other</th>\n",
              "      <th>s71_b</th>\n",
              "      <th>s71_c</th>\n",
              "      <th>s71_d</th>\n",
              "    </tr>\n",
              "  </thead>\n",
              "  <tbody>\n",
              "    <tr>\n",
              "      <th>0</th>\n",
              "      <td>1</td>\n",
              "      <td>1</td>\n",
              "      <td>1</td>\n",
              "      <td>0</td>\n",
              "      <td>1</td>\n",
              "      <td>17.362752</td>\n",
              "      <td>2.985283</td>\n",
              "      <td>3</td>\n",
              "      <td>2.052415</td>\n",
              "      <td>-32.339904</td>\n",
              "      <td>...</td>\n",
              "      <td>1</td>\n",
              "      <td>0</td>\n",
              "      <td>0</td>\n",
              "      <td>0</td>\n",
              "      <td>0</td>\n",
              "      <td>1</td>\n",
              "      <td>0</td>\n",
              "      <td>0</td>\n",
              "      <td>0</td>\n",
              "      <td>1</td>\n",
              "    </tr>\n",
              "    <tr>\n",
              "      <th>1</th>\n",
              "      <td>1</td>\n",
              "      <td>1</td>\n",
              "      <td>1</td>\n",
              "      <td>1</td>\n",
              "      <td>0</td>\n",
              "      <td>15.892228</td>\n",
              "      <td>2.389056</td>\n",
              "      <td>7</td>\n",
              "      <td>6.928142</td>\n",
              "      <td>-32.356092</td>\n",
              "      <td>...</td>\n",
              "      <td>1</td>\n",
              "      <td>0</td>\n",
              "      <td>0</td>\n",
              "      <td>0</td>\n",
              "      <td>1</td>\n",
              "      <td>0</td>\n",
              "      <td>0</td>\n",
              "      <td>1</td>\n",
              "      <td>0</td>\n",
              "      <td>0</td>\n",
              "    </tr>\n",
              "    <tr>\n",
              "      <th>2</th>\n",
              "      <td>1</td>\n",
              "      <td>1</td>\n",
              "      <td>0</td>\n",
              "      <td>1</td>\n",
              "      <td>1</td>\n",
              "      <td>10.893303</td>\n",
              "      <td>1.470903</td>\n",
              "      <td>6</td>\n",
              "      <td>2.210629</td>\n",
              "      <td>-32.397871</td>\n",
              "      <td>...</td>\n",
              "      <td>1</td>\n",
              "      <td>0</td>\n",
              "      <td>0</td>\n",
              "      <td>0</td>\n",
              "      <td>0</td>\n",
              "      <td>1</td>\n",
              "      <td>0</td>\n",
              "      <td>1</td>\n",
              "      <td>0</td>\n",
              "      <td>0</td>\n",
              "    </tr>\n",
              "    <tr>\n",
              "      <th>3</th>\n",
              "      <td>1</td>\n",
              "      <td>1</td>\n",
              "      <td>1</td>\n",
              "      <td>0</td>\n",
              "      <td>1</td>\n",
              "      <td>9.876850</td>\n",
              "      <td>1.442493</td>\n",
              "      <td>3</td>\n",
              "      <td>2.350379</td>\n",
              "      <td>-32.836003</td>\n",
              "      <td>...</td>\n",
              "      <td>0</td>\n",
              "      <td>1</td>\n",
              "      <td>0</td>\n",
              "      <td>0</td>\n",
              "      <td>0</td>\n",
              "      <td>1</td>\n",
              "      <td>0</td>\n",
              "      <td>1</td>\n",
              "      <td>0</td>\n",
              "      <td>0</td>\n",
              "    </tr>\n",
              "    <tr>\n",
              "      <th>4</th>\n",
              "      <td>1</td>\n",
              "      <td>1</td>\n",
              "      <td>1</td>\n",
              "      <td>1</td>\n",
              "      <td>1</td>\n",
              "      <td>11.674406</td>\n",
              "      <td>2.544719</td>\n",
              "      <td>8</td>\n",
              "      <td>8.136887</td>\n",
              "      <td>-32.577495</td>\n",
              "      <td>...</td>\n",
              "      <td>0</td>\n",
              "      <td>1</td>\n",
              "      <td>0</td>\n",
              "      <td>0</td>\n",
              "      <td>1</td>\n",
              "      <td>0</td>\n",
              "      <td>0</td>\n",
              "      <td>1</td>\n",
              "      <td>0</td>\n",
              "      <td>0</td>\n",
              "    </tr>\n",
              "  </tbody>\n",
              "</table>\n",
              "<p>5 rows × 45 columns</p>\n",
              "</div>\n",
              "      <button class=\"colab-df-convert\" onclick=\"convertToInteractive('df-998ac2eb-0d53-406e-9a1c-7cf3cffef11d')\"\n",
              "              title=\"Convert this dataframe to an interactive table.\"\n",
              "              style=\"display:none;\">\n",
              "        \n",
              "  <svg xmlns=\"http://www.w3.org/2000/svg\" height=\"24px\"viewBox=\"0 0 24 24\"\n",
              "       width=\"24px\">\n",
              "    <path d=\"M0 0h24v24H0V0z\" fill=\"none\"/>\n",
              "    <path d=\"M18.56 5.44l.94 2.06.94-2.06 2.06-.94-2.06-.94-.94-2.06-.94 2.06-2.06.94zm-11 1L8.5 8.5l.94-2.06 2.06-.94-2.06-.94L8.5 2.5l-.94 2.06-2.06.94zm10 10l.94 2.06.94-2.06 2.06-.94-2.06-.94-.94-2.06-.94 2.06-2.06.94z\"/><path d=\"M17.41 7.96l-1.37-1.37c-.4-.4-.92-.59-1.43-.59-.52 0-1.04.2-1.43.59L10.3 9.45l-7.72 7.72c-.78.78-.78 2.05 0 2.83L4 21.41c.39.39.9.59 1.41.59.51 0 1.02-.2 1.41-.59l7.78-7.78 2.81-2.81c.8-.78.8-2.07 0-2.86zM5.41 20L4 18.59l7.72-7.72 1.47 1.35L5.41 20z\"/>\n",
              "  </svg>\n",
              "      </button>\n",
              "      \n",
              "  <style>\n",
              "    .colab-df-container {\n",
              "      display:flex;\n",
              "      flex-wrap:wrap;\n",
              "      gap: 12px;\n",
              "    }\n",
              "\n",
              "    .colab-df-convert {\n",
              "      background-color: #E8F0FE;\n",
              "      border: none;\n",
              "      border-radius: 50%;\n",
              "      cursor: pointer;\n",
              "      display: none;\n",
              "      fill: #1967D2;\n",
              "      height: 32px;\n",
              "      padding: 0 0 0 0;\n",
              "      width: 32px;\n",
              "    }\n",
              "\n",
              "    .colab-df-convert:hover {\n",
              "      background-color: #E2EBFA;\n",
              "      box-shadow: 0px 1px 2px rgba(60, 64, 67, 0.3), 0px 1px 3px 1px rgba(60, 64, 67, 0.15);\n",
              "      fill: #174EA6;\n",
              "    }\n",
              "\n",
              "    [theme=dark] .colab-df-convert {\n",
              "      background-color: #3B4455;\n",
              "      fill: #D2E3FC;\n",
              "    }\n",
              "\n",
              "    [theme=dark] .colab-df-convert:hover {\n",
              "      background-color: #434B5C;\n",
              "      box-shadow: 0px 1px 3px 1px rgba(0, 0, 0, 0.15);\n",
              "      filter: drop-shadow(0px 1px 2px rgba(0, 0, 0, 0.3));\n",
              "      fill: #FFFFFF;\n",
              "    }\n",
              "  </style>\n",
              "\n",
              "      <script>\n",
              "        const buttonEl =\n",
              "          document.querySelector('#df-998ac2eb-0d53-406e-9a1c-7cf3cffef11d button.colab-df-convert');\n",
              "        buttonEl.style.display =\n",
              "          google.colab.kernel.accessAllowed ? 'block' : 'none';\n",
              "\n",
              "        async function convertToInteractive(key) {\n",
              "          const element = document.querySelector('#df-998ac2eb-0d53-406e-9a1c-7cf3cffef11d');\n",
              "          const dataTable =\n",
              "            await google.colab.kernel.invokeFunction('convertToInteractive',\n",
              "                                                     [key], {});\n",
              "          if (!dataTable) return;\n",
              "\n",
              "          const docLinkHtml = 'Like what you see? Visit the ' +\n",
              "            '<a target=\"_blank\" href=https://colab.research.google.com/notebooks/data_table.ipynb>data table notebook</a>'\n",
              "            + ' to learn more about interactive tables.';\n",
              "          element.innerHTML = '';\n",
              "          dataTable['output_type'] = 'display_data';\n",
              "          await google.colab.output.renderOutput(dataTable, element);\n",
              "          const docLink = document.createElement('div');\n",
              "          docLink.innerHTML = docLinkHtml;\n",
              "          element.appendChild(docLink);\n",
              "        }\n",
              "      </script>\n",
              "    </div>\n",
              "  </div>\n",
              "  "
            ]
          },
          "metadata": {},
          "execution_count": 53
        }
      ]
    },
    {
      "cell_type": "code",
      "execution_count": null,
      "metadata": {
        "id": "XfkvmMTshnO-"
      },
      "outputs": [],
      "source": [
        "data_column = ['gender','s11','s12','s48','n1','n2','n3','n4','n5','n6','n7','n8','n9','n10','s16_B','s16_D','s17_A','s17_B','s17_C','s17_D','s18_B','s52_1','s52_l','s52_Other','s69_Other','s69_a','s69_b','s18_Other','s70_Other','s70_op: B','s70_op: D','s71_b','s71_Other','label']"
      ]
    },
    {
      "cell_type": "code",
      "source": [
        "data_filtered.columns"
      ],
      "metadata": {
        "colab": {
          "base_uri": "https://localhost:8080/"
        },
        "id": "4qI6wkBzVDth",
        "outputId": "3a8df545-5986-4ada-dab1-629f56ff398d"
      },
      "execution_count": null,
      "outputs": [
        {
          "output_type": "execute_result",
          "data": {
            "text/plain": [
              "Index(['gender', 's11', 's12', 's48', 's58', 'n1', 'n2', 'n3', 'n4', 'n5',\n",
              "       'n6', 'n7', 'n8', 'n9', 'n10', 'n11', 'n13', 'n14', 'n15', 'label',\n",
              "       's16_B', 's16_D', 's16_Other', 's17_A', 's17_B', 's17_C', 's17_D',\n",
              "       's18_B', 's18_Other', 's52_1', 's52_Other', 's52_l', 's69_Other',\n",
              "       's69_a', 's69_b', 's70_Other', 's70_op: B', 's70_op: D', 's71_Other',\n",
              "       's71_b'],\n",
              "      dtype='object')"
            ]
          },
          "metadata": {},
          "execution_count": 55
        }
      ]
    },
    {
      "cell_type": "code",
      "execution_count": null,
      "metadata": {
        "id": "kMaCkwelhnPA"
      },
      "outputs": [],
      "source": [
        "data_filtered_corr = data_filtered[data_column]"
      ]
    },
    {
      "cell_type": "code",
      "source": [
        "# data_filtered.notnull()"
      ],
      "metadata": {
        "id": "uODGfXHFExJW"
      },
      "execution_count": null,
      "outputs": []
    },
    {
      "cell_type": "code",
      "source": [
        "data_column_test = ['gender','s11','s12','s48','n1','n2','n3','n4','n5','n6','n7','n8','n9','n10','s16_B','s16_D','s17_A','s17_B','s17_C','s17_D','s18_B','s52_1','s52_l','s52_Other','s69_Other','s69_a','s69_b','s18_Other','s70_Other','s70_op: B','s70_op: D','s71_b','s71_Other']\n",
        "data_filtered_corr_test = data_filtered_test[data_column_test]"
      ],
      "metadata": {
        "id": "yAeUQUZRYGH9"
      },
      "execution_count": null,
      "outputs": []
    },
    {
      "cell_type": "code",
      "source": [
        "train_df, test_df = train_test_split(data_filtered_corr, test_size = 0.20, random_state = 0, shuffle= True,stratify=data_filtered_corr['label'])\n",
        "#train_df, test_df = train_test_split(test_train_df, test_size = 0.1, random_state = 0, shuffle= True,stratify=test_train_df['label'])\n",
        "#test_df, orginal_test_df = train_test_split(test_df, test_size = 0.07, random_state = 0, shuffle= True)"
      ],
      "metadata": {
        "id": "-lsgu88wnmQg"
      },
      "execution_count": null,
      "outputs": []
    },
    {
      "cell_type": "code",
      "source": [
        "train_y = train_df['label']\n",
        "test_y = test_df['label']\n",
        "#valid_y = valid_df['label']\n",
        "train_y.shape"
      ],
      "metadata": {
        "colab": {
          "base_uri": "https://localhost:8080/"
        },
        "id": "AWDopiSh-K_F",
        "outputId": "19e6ac3c-b24a-4e59-820d-188d928efbf2"
      },
      "execution_count": null,
      "outputs": [
        {
          "output_type": "execute_result",
          "data": {
            "text/plain": [
              "(22657,)"
            ]
          },
          "metadata": {},
          "execution_count": 60
        }
      ]
    },
    {
      "cell_type": "code",
      "source": [
        "train_x = train_df.drop(columns = ['label'])\n",
        "test_x = test_df.drop(columns = ['label'])\n",
        "#valid_x = valid_df.drop(columns = ['label'])\n",
        "test_x.shape"
      ],
      "metadata": {
        "colab": {
          "base_uri": "https://localhost:8080/"
        },
        "id": "S6XMsUkT-0T2",
        "outputId": "9bd235a0-a35c-4d48-b8fd-ff5a9eadef9b"
      },
      "execution_count": null,
      "outputs": [
        {
          "output_type": "execute_result",
          "data": {
            "text/plain": [
              "(5665, 33)"
            ]
          },
          "metadata": {},
          "execution_count": 61
        }
      ]
    },
    {
      "cell_type": "markdown",
      "source": [
        "Scaling data"
      ],
      "metadata": {
        "id": "QByLh14P2CcC"
      }
    },
    {
      "cell_type": "code",
      "source": [
        "from sklearn.preprocessing import StandardScaler\n",
        "from sklearn.preprocessing import Normalizer\n",
        "from sklearn.preprocessing import PowerTransformer, QuantileTransformer\n",
        "\n",
        "scaler = QuantileTransformer(n_quantiles=15000, output_distribution='normal')\n",
        "# scaler = PowerTransformer()\n",
        "scaler.fit(train_x)\n",
        "train_x = scaler.transform(train_x)\n",
        "# valid_x = scaler.transform(valid_x)\n",
        "test_x = scaler.transform(test_x)\n",
        "print(train_x)"
      ],
      "metadata": {
        "id": "Vjzi-uDEA9Fj",
        "colab": {
          "base_uri": "https://localhost:8080/"
        },
        "outputId": "a36410b7-9b22-4f35-ea42-13ee1e326dfb"
      },
      "execution_count": null,
      "outputs": [
        {
          "output_type": "stream",
          "name": "stdout",
          "text": [
            "[[ 5.19933758  5.19933758  5.19933758 ...  5.19933758  5.19933758\n",
            "  -5.19933758]\n",
            " [-5.19933758  5.19933758  5.19933758 ...  5.19933758  5.19933758\n",
            "  -5.19933758]\n",
            " [ 5.19933758  5.19933758  5.19933758 ...  5.19933758  5.19933758\n",
            "  -5.19933758]\n",
            " ...\n",
            " [ 5.19933758  5.19933758  5.19933758 ... -5.19933758  5.19933758\n",
            "  -5.19933758]\n",
            " [ 5.19933758  5.19933758  5.19933758 ... -5.19933758  5.19933758\n",
            "  -5.19933758]\n",
            " [-5.19933758  5.19933758  5.19933758 ... -5.19933758 -5.19933758\n",
            "   5.19933758]]\n"
          ]
        }
      ]
    },
    {
      "cell_type": "code",
      "source": [
        "final_test_x = scaler.transform(data_filtered_corr_test)"
      ],
      "metadata": {
        "id": "bOR3MXCSr23j"
      },
      "execution_count": null,
      "outputs": []
    },
    {
      "cell_type": "code",
      "source": [
        "# final_test_x = data_filtered_corr_test"
      ],
      "metadata": {
        "id": "6U2i9TAxsC08"
      },
      "execution_count": null,
      "outputs": []
    },
    {
      "cell_type": "code",
      "source": [
        "from xgboost import XGBClassifier\n",
        "# fit model no training data\n",
        "xgb_main = XGBClassifier(eval_metric = \"auc\")\n",
        "xgb_main.fit(train_x, train_y)\n",
        "xgb_pred_train = xgb_main.predict(train_x)\n",
        "\n",
        "print(xgb_main.score(train_x, train_y))\n",
        "print(xgb_main.score(test_x,test_y))\n",
        "\n",
        "#print(xgb_main.score(valid_x,valid_y))\n",
        "#xgb_pred_valid = xgb_main.predict(valid_x)\n",
        "xgb_pred_test = xgb_main.predict(test_x)\n",
        "\n",
        "#pred2 = xgb_main.predict(original_test_x_fire)\n",
        "#mae2 = mean_absolute_error(original_test_y_fire, pred2)\n",
        "#print(mae2)"
      ],
      "metadata": {
        "colab": {
          "base_uri": "https://localhost:8080/"
        },
        "id": "hyX2bmZ-8bpy",
        "outputId": "78504612-b3ad-4457-f9a1-b1176e4a3ea2"
      },
      "execution_count": null,
      "outputs": [
        {
          "output_type": "stream",
          "name": "stdout",
          "text": [
            "0.8855982698503774\n",
            "0.8762577228596646\n"
          ]
        }
      ]
    },
    {
      "cell_type": "code",
      "source": [
        "xgb_pred_test_final = xgb_main.predict(final_test_x)"
      ],
      "metadata": {
        "id": "p4bY09z-sHOL"
      },
      "execution_count": null,
      "outputs": []
    },
    {
      "cell_type": "markdown",
      "source": [
        "Testing on lightbgm model"
      ],
      "metadata": {
        "id": "-IjDsE2z2HCK"
      }
    },
    {
      "cell_type": "code",
      "source": [
        "# build the lightgbm model\n",
        "import lightgbm as lgb\n",
        "clf = lgb.LGBMClassifier(eval_metric = \"auc\")\n",
        "clf.fit(train_x, train_y)\n",
        "lgb_pred_train = clf.predict(train_x)\n",
        "# predict the results\n",
        "#y_pred=clf.predict(valid_x)\n",
        "#lgb_pred_valid = clf.predict(valid_x)\n",
        "lgb_pred_test = clf.predict(test_x)\n",
        "\n",
        "# view accuracy\n",
        "from sklearn.metrics import accuracy_score\n",
        "#accuracy=accuracy_score(y_pred, valid_y)\n",
        "#print('LightGBM Model accuracy score: {0:0.4f}'.format(accuracy_score(valid_y, y_pred)))\n",
        "\n",
        "y_pred_train = clf.predict(train_x)\n",
        "print('Training-set accuracy score: {0:0.4f}'. format(accuracy_score(train_y, y_pred_train)))\n",
        "print('accuracy score: {0:0.4f}'. format(accuracy_score(test_y, lgb_pred_test)))"
      ],
      "metadata": {
        "colab": {
          "base_uri": "https://localhost:8080/"
        },
        "id": "1uKyyYSbADY-",
        "outputId": "28af8fd3-fe15-4f6d-d09e-3a7c2fad905a"
      },
      "execution_count": null,
      "outputs": [
        {
          "output_type": "stream",
          "name": "stdout",
          "text": [
            "Training-set accuracy score: 0.9100\n",
            "accuracy score: 0.8775\n"
          ]
        }
      ]
    },
    {
      "cell_type": "code",
      "source": [
        "lgb_pred_test_final = clf.predict(final_test_x)"
      ],
      "metadata": {
        "id": "TtuDHHjesXJi"
      },
      "execution_count": null,
      "outputs": []
    },
    {
      "cell_type": "markdown",
      "source": [
        "Testing on Naive Bayes"
      ],
      "metadata": {
        "id": "takZ8kCs2NRZ"
      }
    },
    {
      "cell_type": "code",
      "source": [
        "#Import Gaussian Naive Bayes model\n",
        "from sklearn.naive_bayes import GaussianNB\n",
        "\n",
        "#Create a Gaussian Classifier\n",
        "model = GaussianNB()\n",
        "\n",
        "# Train the model using the training sets\n",
        "model.fit(train_x,train_y)\n",
        "\n",
        "#Predict Output\n",
        "nbg_pred_test= model.predict(test_x)\n",
        "#nbg_pred_valid= model.predict(valid_x)\n",
        "\n",
        "nbg_pred_train= model.predict(train_x)\n",
        "\n",
        "# accuracy=accuracy_score(y_pred, valid_y)\n",
        "print('Gaussian naice bayes Model accuracy score: {0:0.4f}'.format(accuracy_score(test_y, nbg_pred_test)))\n",
        "\n",
        "print('Gaussian naice bayes training accuracy score: {0:0.4f}'.format(accuracy_score(train_y, nbg_pred_train)))"
      ],
      "metadata": {
        "colab": {
          "base_uri": "https://localhost:8080/"
        },
        "id": "F5HHPyH1Ak1F",
        "outputId": "ec1b3702-647e-4ba2-87a6-ea986cf0dcca"
      },
      "execution_count": null,
      "outputs": [
        {
          "output_type": "stream",
          "name": "stdout",
          "text": [
            "Gaussian naice bayes Model accuracy score: 0.8085\n",
            "Gaussian naice bayes training accuracy score: 0.8184\n"
          ]
        }
      ]
    },
    {
      "cell_type": "code",
      "source": [
        "nbg_pred_test_final = model.predict(final_test_x)"
      ],
      "metadata": {
        "id": "McMEVdUHspcf"
      },
      "execution_count": null,
      "outputs": []
    },
    {
      "cell_type": "markdown",
      "source": [
        "Testing on random forest"
      ],
      "metadata": {
        "id": "esvs_NO12SLR"
      }
    },
    {
      "cell_type": "code",
      "source": [
        "from sklearn.ensemble import RandomForestClassifier\n",
        "\n",
        "clf = RandomForestClassifier(max_depth=2, random_state=0)\n",
        "clf.fit(train_x, train_y)\n",
        "# predict the results\n",
        "y_pred = clf.predict(test_x)\n",
        "#ranf_pred_valid = clf.predict(valid_x)\n",
        "\n",
        "# view accuracy\n",
        "from sklearn.metrics import accuracy_score\n",
        "#accuracy=accuracy_score(y_pred, valid_y)\n",
        "print('RF Model accuracy score: {0:0.4f}'.format(accuracy_score(test_y, y_pred)))\n",
        "\n",
        "rf_pred_train = clf.predict(train_x)\n",
        "rf_pred_test = clf.predict(test_x)\n",
        "#rf_pred_valid = clf.predict(valid_x)\n",
        "print('Training-set accuracy score: {0:0.4f}'. format(accuracy_score(train_y, y_pred_train)))"
      ],
      "metadata": {
        "colab": {
          "base_uri": "https://localhost:8080/"
        },
        "id": "C8dwfccagvI2",
        "outputId": "5ce2bbb7-07f8-4257-cb7c-72372080e1c4"
      },
      "execution_count": null,
      "outputs": [
        {
          "output_type": "stream",
          "name": "stdout",
          "text": [
            "RF Model accuracy score: 0.8637\n",
            "Training-set accuracy score: 0.9100\n"
          ]
        }
      ]
    },
    {
      "cell_type": "code",
      "source": [
        "rf_pred_test_final = clf.predict(final_test_x)"
      ],
      "metadata": {
        "id": "ajSGBuI-sz3G"
      },
      "execution_count": null,
      "outputs": []
    },
    {
      "cell_type": "markdown",
      "source": [
        "Testing on logistic regression"
      ],
      "metadata": {
        "id": "feSpeRwq2UvS"
      }
    },
    {
      "cell_type": "code",
      "source": [
        "from sklearn.linear_model import LogisticRegression\n",
        "\n",
        "clf = LogisticRegression(random_state=0,max_iter = 3000)\n",
        "clf.fit(train_x, train_y)\n",
        "# predict the results\n",
        "#y_pred = clf.predict(valid_x)\n",
        "lr_pred_test = clf.predict(test_x)\n",
        "\n",
        "# view accuracy\n",
        "from sklearn.metrics import accuracy_score\n",
        "#accuracy=accuracy_score(y_pred, valid_y)\n",
        "print('LR Model accuracy score: {0:0.4f}'.format(accuracy_score(test_y, y_pred)))\n",
        "\n",
        "lr_pred_train = clf.predict(train_x)\n",
        "lr_pred_test = clf.predict(test_x)\n",
        "#lr_pred_valid = clf.predict(valid_x)\n",
        "print('Training-set accuracy score: {0:0.4f}'. format(accuracy_score(train_y, y_pred_train)))"
      ],
      "metadata": {
        "colab": {
          "base_uri": "https://localhost:8080/"
        },
        "id": "Rxkx8tmfmVEL",
        "outputId": "0ec16dde-aef6-4943-bacb-bd2bfce1a27d"
      },
      "execution_count": null,
      "outputs": [
        {
          "output_type": "stream",
          "name": "stdout",
          "text": [
            "LR Model accuracy score: 0.8637\n",
            "Training-set accuracy score: 0.9100\n"
          ]
        }
      ]
    },
    {
      "cell_type": "code",
      "source": [
        "lr_pred_test_final = clf.predict(final_test_x)"
      ],
      "metadata": {
        "id": "26eNkhp_s4Ey"
      },
      "execution_count": null,
      "outputs": []
    },
    {
      "cell_type": "code",
      "source": [
        "test_data_final = {\n",
        "    'xgb' : xgb_pred_test_final,\n",
        "    'lgb' : lgb_pred_test_final,\n",
        "    'nbg' : nbg_pred_test_final,\n",
        "    'rf' : rf_pred_test_final,\n",
        "    'lr' : lr_pred_test_final\n",
        "    \n",
        "}\n",
        "\n",
        "test_dataframe_final = pd.DataFrame(test_data_final,columns = ['xgb','lgb','nbg','rf','lr'])\n",
        "# test_dataframe_final = test_dataframe_final.drop(columns = ['lr','rf'])\n",
        "print(test_dataframe_final.head())\n",
        "print(test_dataframe_final.tail())\n",
        "test_dataframe_final.to_csv('Fire_test_final.csv')"
      ],
      "metadata": {
        "colab": {
          "base_uri": "https://localhost:8080/"
        },
        "id": "I0lm9wDftEri",
        "outputId": "7fad21d0-2faf-4df8-8727-11b723bacbf6"
      },
      "execution_count": null,
      "outputs": [
        {
          "output_type": "stream",
          "name": "stdout",
          "text": [
            "   xgb  lgb  nbg  rf  lr\n",
            "0    1    1    1   1   1\n",
            "1    1    1    1   0   1\n",
            "2    1    1    1   0   1\n",
            "3    0    0    0   0   0\n",
            "4    0    0    0   0   0\n",
            "       xgb  lgb  nbg  rf  lr\n",
            "85060    0    0    1   0   0\n",
            "85061    1    1    1   1   1\n",
            "85062    0    1    0   0   0\n",
            "85063    1    1    1   1   1\n",
            "85064    0    0    0   0   0\n"
          ]
        }
      ]
    },
    {
      "cell_type": "code",
      "source": [
        "train_data = {\n",
        "    'GT' : train_y,\n",
        "    'xgb' : xgb_pred_train,\n",
        "    'lgb' : lgb_pred_train,\n",
        "    'nbg' : nbg_pred_train,\n",
        "    'rf' : rf_pred_train,\n",
        "    'lr' : lr_pred_train\n",
        "    \n",
        "}\n",
        "\n",
        "train_dataframe = pd.DataFrame(train_data,columns = ['GT','xgb','lgb','nbg','rf','lr'])\n",
        "print(train_dataframe.head())\n",
        "print(train_dataframe.tail())\n",
        "train_dataframe.to_csv('Fire_train.csv')"
      ],
      "metadata": {
        "colab": {
          "base_uri": "https://localhost:8080/"
        },
        "id": "qqBaEIMsAprN",
        "outputId": "ca077a4b-bc71-4568-c6b2-10ed9e08f746"
      },
      "execution_count": null,
      "outputs": [
        {
          "output_type": "stream",
          "name": "stdout",
          "text": [
            "       GT  xgb  lgb  nbg  rf  lr\n",
            "18690   0    0    0    0   0   0\n",
            "6358    0    0    0    0   0   0\n",
            "14924   0    0    0    0   0   0\n",
            "15633   0    0    0    0   0   0\n",
            "19194   0    0    0    0   0   0\n",
            "       GT  xgb  lgb  nbg  rf  lr\n",
            "11937   0    0    0    0   0   0\n",
            "24074   0    0    0    0   0   0\n",
            "20424   1    0    0    1   0   0\n",
            "22202   1    0    0    0   0   0\n",
            "19251   0    0    0    1   0   0\n"
          ]
        }
      ]
    },
    {
      "cell_type": "code",
      "source": [
        "\n",
        "test_data = {\n",
        "    'GT' : test_y,\n",
        "    'xgb' : xgb_pred_test,\n",
        "    'lgb' : lgb_pred_test,\n",
        "    'nbg' : nbg_pred_test,\n",
        "    'rf' : rf_pred_test,\n",
        "    'lr' : lr_pred_test\n",
        "    \n",
        "}\n",
        "\n",
        "test_dataframe = pd.DataFrame(test_data,columns = ['GT','xgb','lgb','nbg','rf','lr'])\n",
        "print(test_dataframe.head())\n",
        "print(test_dataframe.tail())\n",
        "test_dataframe.to_csv('Fire_test.csv')"
      ],
      "metadata": {
        "colab": {
          "base_uri": "https://localhost:8080/"
        },
        "id": "hxlaRE6mBk3e",
        "outputId": "18196966-c30c-4a41-82ac-ae4a7bfb604b"
      },
      "execution_count": null,
      "outputs": [
        {
          "output_type": "stream",
          "name": "stdout",
          "text": [
            "       GT  xgb  lgb  nbg  rf  lr\n",
            "11964   0    0    0    1   0   0\n",
            "15792   0    0    0    0   0   0\n",
            "19367   0    0    0    0   0   0\n",
            "12608   0    0    0    0   0   0\n",
            "25210   0    0    0    0   0   0\n",
            "       GT  xgb  lgb  nbg  rf  lr\n",
            "15179   0    0    0    0   0   0\n",
            "24515   0    0    0    0   0   0\n",
            "23909   0    0    0    0   0   0\n",
            "19294   1    0    0    0   0   0\n",
            "25056   1    0    0    1   0   0\n"
          ]
        }
      ]
    },
    {
      "cell_type": "code",
      "source": [
        "# valid_data = {\n",
        "#     'GT' : valid_y,\n",
        "#     'xgb' : xgb_pred_valid,\n",
        "#     'lgb' : lgb_pred_valid,\n",
        "#     'nbg' : nbg_pred_valid,\n",
        "#     'rf' : rf_pred_valid,\n",
        "#     'lr' : lr_pred_valid\n",
        "    \n",
        "# }\n",
        "\n",
        "# valid_dataframe = pd.DataFrame(valid_data,columns = ['GT','xgb','lgb','nbg','rf','lr'])\n",
        "# print(valid_dataframe.head())\n",
        "# print(valid_dataframe.tail())\n",
        "# valid_dataframe.to_csv('Fire_test.csv')"
      ],
      "metadata": {
        "id": "8Kf8s91ibUqz"
      },
      "execution_count": null,
      "outputs": []
    },
    {
      "cell_type": "code",
      "source": [
        "crr = test_dataframe.corr()\n",
        "crr.to_csv('corrr.csv')"
      ],
      "metadata": {
        "id": "FZgbfO4axj8F"
      },
      "execution_count": null,
      "outputs": []
    },
    {
      "cell_type": "code",
      "source": [
        "crr"
      ],
      "metadata": {
        "colab": {
          "base_uri": "https://localhost:8080/",
          "height": 237
        },
        "id": "Nljm3gWZxtm8",
        "outputId": "66ef0a58-1cac-441d-b477-79b50b11ab13"
      },
      "execution_count": null,
      "outputs": [
        {
          "output_type": "execute_result",
          "data": {
            "text/plain": [
              "           GT       xgb       lgb       nbg        rf        lr\n",
              "GT   1.000000  0.504449  0.510104  0.447991  0.413980  0.501757\n",
              "xgb  0.504449  1.000000  0.899334  0.605818  0.687039  0.881344\n",
              "lgb  0.510104  0.899334  1.000000  0.593427  0.659847  0.836859\n",
              "nbg  0.447991  0.605818  0.593427  1.000000  0.485618  0.608035\n",
              "rf   0.413980  0.687039  0.659847  0.485618  1.000000  0.722823\n",
              "lr   0.501757  0.881344  0.836859  0.608035  0.722823  1.000000"
            ],
            "text/html": [
              "\n",
              "  <div id=\"df-4177d818-b72b-466a-b43c-d82420de6408\">\n",
              "    <div class=\"colab-df-container\">\n",
              "      <div>\n",
              "<style scoped>\n",
              "    .dataframe tbody tr th:only-of-type {\n",
              "        vertical-align: middle;\n",
              "    }\n",
              "\n",
              "    .dataframe tbody tr th {\n",
              "        vertical-align: top;\n",
              "    }\n",
              "\n",
              "    .dataframe thead th {\n",
              "        text-align: right;\n",
              "    }\n",
              "</style>\n",
              "<table border=\"1\" class=\"dataframe\">\n",
              "  <thead>\n",
              "    <tr style=\"text-align: right;\">\n",
              "      <th></th>\n",
              "      <th>GT</th>\n",
              "      <th>xgb</th>\n",
              "      <th>lgb</th>\n",
              "      <th>nbg</th>\n",
              "      <th>rf</th>\n",
              "      <th>lr</th>\n",
              "    </tr>\n",
              "  </thead>\n",
              "  <tbody>\n",
              "    <tr>\n",
              "      <th>GT</th>\n",
              "      <td>1.000000</td>\n",
              "      <td>0.504449</td>\n",
              "      <td>0.510104</td>\n",
              "      <td>0.447991</td>\n",
              "      <td>0.413980</td>\n",
              "      <td>0.501757</td>\n",
              "    </tr>\n",
              "    <tr>\n",
              "      <th>xgb</th>\n",
              "      <td>0.504449</td>\n",
              "      <td>1.000000</td>\n",
              "      <td>0.899334</td>\n",
              "      <td>0.605818</td>\n",
              "      <td>0.687039</td>\n",
              "      <td>0.881344</td>\n",
              "    </tr>\n",
              "    <tr>\n",
              "      <th>lgb</th>\n",
              "      <td>0.510104</td>\n",
              "      <td>0.899334</td>\n",
              "      <td>1.000000</td>\n",
              "      <td>0.593427</td>\n",
              "      <td>0.659847</td>\n",
              "      <td>0.836859</td>\n",
              "    </tr>\n",
              "    <tr>\n",
              "      <th>nbg</th>\n",
              "      <td>0.447991</td>\n",
              "      <td>0.605818</td>\n",
              "      <td>0.593427</td>\n",
              "      <td>1.000000</td>\n",
              "      <td>0.485618</td>\n",
              "      <td>0.608035</td>\n",
              "    </tr>\n",
              "    <tr>\n",
              "      <th>rf</th>\n",
              "      <td>0.413980</td>\n",
              "      <td>0.687039</td>\n",
              "      <td>0.659847</td>\n",
              "      <td>0.485618</td>\n",
              "      <td>1.000000</td>\n",
              "      <td>0.722823</td>\n",
              "    </tr>\n",
              "    <tr>\n",
              "      <th>lr</th>\n",
              "      <td>0.501757</td>\n",
              "      <td>0.881344</td>\n",
              "      <td>0.836859</td>\n",
              "      <td>0.608035</td>\n",
              "      <td>0.722823</td>\n",
              "      <td>1.000000</td>\n",
              "    </tr>\n",
              "  </tbody>\n",
              "</table>\n",
              "</div>\n",
              "      <button class=\"colab-df-convert\" onclick=\"convertToInteractive('df-4177d818-b72b-466a-b43c-d82420de6408')\"\n",
              "              title=\"Convert this dataframe to an interactive table.\"\n",
              "              style=\"display:none;\">\n",
              "        \n",
              "  <svg xmlns=\"http://www.w3.org/2000/svg\" height=\"24px\"viewBox=\"0 0 24 24\"\n",
              "       width=\"24px\">\n",
              "    <path d=\"M0 0h24v24H0V0z\" fill=\"none\"/>\n",
              "    <path d=\"M18.56 5.44l.94 2.06.94-2.06 2.06-.94-2.06-.94-.94-2.06-.94 2.06-2.06.94zm-11 1L8.5 8.5l.94-2.06 2.06-.94-2.06-.94L8.5 2.5l-.94 2.06-2.06.94zm10 10l.94 2.06.94-2.06 2.06-.94-2.06-.94-.94-2.06-.94 2.06-2.06.94z\"/><path d=\"M17.41 7.96l-1.37-1.37c-.4-.4-.92-.59-1.43-.59-.52 0-1.04.2-1.43.59L10.3 9.45l-7.72 7.72c-.78.78-.78 2.05 0 2.83L4 21.41c.39.39.9.59 1.41.59.51 0 1.02-.2 1.41-.59l7.78-7.78 2.81-2.81c.8-.78.8-2.07 0-2.86zM5.41 20L4 18.59l7.72-7.72 1.47 1.35L5.41 20z\"/>\n",
              "  </svg>\n",
              "      </button>\n",
              "      \n",
              "  <style>\n",
              "    .colab-df-container {\n",
              "      display:flex;\n",
              "      flex-wrap:wrap;\n",
              "      gap: 12px;\n",
              "    }\n",
              "\n",
              "    .colab-df-convert {\n",
              "      background-color: #E8F0FE;\n",
              "      border: none;\n",
              "      border-radius: 50%;\n",
              "      cursor: pointer;\n",
              "      display: none;\n",
              "      fill: #1967D2;\n",
              "      height: 32px;\n",
              "      padding: 0 0 0 0;\n",
              "      width: 32px;\n",
              "    }\n",
              "\n",
              "    .colab-df-convert:hover {\n",
              "      background-color: #E2EBFA;\n",
              "      box-shadow: 0px 1px 2px rgba(60, 64, 67, 0.3), 0px 1px 3px 1px rgba(60, 64, 67, 0.15);\n",
              "      fill: #174EA6;\n",
              "    }\n",
              "\n",
              "    [theme=dark] .colab-df-convert {\n",
              "      background-color: #3B4455;\n",
              "      fill: #D2E3FC;\n",
              "    }\n",
              "\n",
              "    [theme=dark] .colab-df-convert:hover {\n",
              "      background-color: #434B5C;\n",
              "      box-shadow: 0px 1px 3px 1px rgba(0, 0, 0, 0.15);\n",
              "      filter: drop-shadow(0px 1px 2px rgba(0, 0, 0, 0.3));\n",
              "      fill: #FFFFFF;\n",
              "    }\n",
              "  </style>\n",
              "\n",
              "      <script>\n",
              "        const buttonEl =\n",
              "          document.querySelector('#df-4177d818-b72b-466a-b43c-d82420de6408 button.colab-df-convert');\n",
              "        buttonEl.style.display =\n",
              "          google.colab.kernel.accessAllowed ? 'block' : 'none';\n",
              "\n",
              "        async function convertToInteractive(key) {\n",
              "          const element = document.querySelector('#df-4177d818-b72b-466a-b43c-d82420de6408');\n",
              "          const dataTable =\n",
              "            await google.colab.kernel.invokeFunction('convertToInteractive',\n",
              "                                                     [key], {});\n",
              "          if (!dataTable) return;\n",
              "\n",
              "          const docLinkHtml = 'Like what you see? Visit the ' +\n",
              "            '<a target=\"_blank\" href=https://colab.research.google.com/notebooks/data_table.ipynb>data table notebook</a>'\n",
              "            + ' to learn more about interactive tables.';\n",
              "          element.innerHTML = '';\n",
              "          dataTable['output_type'] = 'display_data';\n",
              "          await google.colab.output.renderOutput(dataTable, element);\n",
              "          const docLink = document.createElement('div');\n",
              "          docLink.innerHTML = docLinkHtml;\n",
              "          element.appendChild(docLink);\n",
              "        }\n",
              "      </script>\n",
              "    </div>\n",
              "  </div>\n",
              "  "
            ]
          },
          "metadata": {},
          "execution_count": 80
        }
      ]
    },
    {
      "cell_type": "code",
      "source": [
        "train_fire_y = train_dataframe['GT']\n",
        "test_fire_y = test_dataframe['GT']\n",
        "# valid_fire_y = valid_dataframe['GT']\n"
      ],
      "metadata": {
        "id": "NnrE6CrCbZny"
      },
      "execution_count": null,
      "outputs": []
    },
    {
      "cell_type": "code",
      "source": [
        "# train_fire_x = train_dataframe.drop(columns = ['GT','lr','rf'])\n",
        "train_fire_x = train_dataframe.drop(columns = ['GT'])\n",
        "test_fire_x = test_dataframe.drop(columns = ['GT'])\n",
        "# valid_fire_x = valid_dataframe.drop(columns = ['GT','nbg','rf'])"
      ],
      "metadata": {
        "id": "uyiyhXiRk9wV"
      },
      "execution_count": null,
      "outputs": []
    },
    {
      "cell_type": "code",
      "source": [
        "from sklearn.linear_model import LogisticRegression\n",
        "\n",
        "clf = LogisticRegression(random_state=0).fit(train_fire_x, train_fire_y)\n",
        "\n",
        "final_pred_train = clf.predict(train_fire_x)\n",
        "# final_pred_valid = clf.predict(valid_fire_x)\n",
        "final_pred_test = clf.predict(test_fire_x)\n",
        "pred1 = clf.predict(test_fire_x)\n",
        "# accuracy=accuracy_score(y_pred, valid_y)\n",
        "\n",
        "print('Final Model accuracy score: {}'.format(accuracy_score(train_fire_y, final_pred_train)))\n",
        "# print('Final Model accuracy score: {0:0.4f}'.format(accuracy_score(valid_fire_y, final_pred_valid)))\n",
        "\n",
        "print('Final Model accuracy score: {}'.format(accuracy_score(test_fire_y, final_pred_test)))"
      ],
      "metadata": {
        "colab": {
          "base_uri": "https://localhost:8080/"
        },
        "id": "pjij-LcclVJL",
        "outputId": "9ad98798-0d9e-4a7f-8c0d-490262bbbfd0"
      },
      "execution_count": null,
      "outputs": [
        {
          "output_type": "stream",
          "name": "stdout",
          "text": [
            "Final Model accuracy score: 0.9100057377410955\n",
            "Final Model accuracy score: 0.8774933804060018\n"
          ]
        }
      ]
    },
    {
      "cell_type": "code",
      "source": [
        "from xgboost import XGBClassifier\n",
        "# fit model no training data\n",
        "xgb_main = XGBClassifier(eval_metric = \"auc\")\n",
        "xgb_main.fit(train_fire_x, train_fire_y)\n",
        "xgb_pred_train = xgb_main.predict(train_fire_x)\n",
        "\n",
        "print(xgb_main.score(train_fire_x, train_fire_y))\n",
        "print(xgb_main.score(test_fire_x,test_fire_y))\n",
        "pred2 = xgb_main.predict(test_fire_x)\n",
        "# print(xgb_main.score(valid_fire_x,valid_fire_y))\n"
      ],
      "metadata": {
        "colab": {
          "base_uri": "https://localhost:8080/"
        },
        "id": "dQ1-03YxzTKI",
        "outputId": "23a2415e-db27-4617-cd1c-c07f5073ee80"
      },
      "execution_count": null,
      "outputs": [
        {
          "output_type": "stream",
          "name": "stdout",
          "text": [
            "0.9100057377410955\n",
            "0.8774933804060018\n"
          ]
        }
      ]
    },
    {
      "cell_type": "code",
      "source": [
        "from sklearn.metrics import confusion_matrix\n",
        "cm1 = confusion_matrix(test_fire_y, pred1)\n",
        "cm2 = confusion_matrix(test_fire_y, pred2)\n",
        "print(cm1)\n",
        "print(cm2)\n"
      ],
      "metadata": {
        "colab": {
          "base_uri": "https://localhost:8080/"
        },
        "id": "8Ztj2D3KPzSF",
        "outputId": "ff7af16d-fc87-4be7-be29-cd7cb2a0f561"
      },
      "execution_count": null,
      "outputs": [
        {
          "output_type": "stream",
          "name": "stdout",
          "text": [
            "[[4519  194]\n",
            " [ 500  452]]\n",
            "[[4519  194]\n",
            " [ 500  452]]\n"
          ]
        }
      ]
    },
    {
      "cell_type": "code",
      "source": [
        "pred = clf.predict(test_dataframe_final)"
      ],
      "metadata": {
        "id": "sbNJfPHnmMW-"
      },
      "execution_count": null,
      "outputs": []
    },
    {
      "cell_type": "code",
      "source": [
        "pred.shape"
      ],
      "metadata": {
        "colab": {
          "base_uri": "https://localhost:8080/"
        },
        "id": "yRpzCpJntyfQ",
        "outputId": "7132ee4c-e1da-4b31-bdc7-4d8c2d6ff63c"
      },
      "execution_count": null,
      "outputs": [
        {
          "output_type": "execute_result",
          "data": {
            "text/plain": [
              "(85065,)"
            ]
          },
          "metadata": {},
          "execution_count": 87
        }
      ]
    },
    {
      "cell_type": "code",
      "source": [
        "#Converting Datatype to Integer\n",
        "\n",
        "float_array = np.array(pred)\n",
        "print(float_array)\n",
        "\n",
        "print('After converting numpy float array to int array')\n",
        "int_array = float_array.astype(int)\n",
        "print(int_array)"
      ],
      "metadata": {
        "colab": {
          "base_uri": "https://localhost:8080/"
        },
        "id": "BnEhLpX-t2MI",
        "outputId": "823218a9-99c9-450e-d490-01db981a2336"
      },
      "execution_count": null,
      "outputs": [
        {
          "output_type": "stream",
          "name": "stdout",
          "text": [
            "[1 1 1 ... 1 1 0]\n",
            "After converting numpy float array to int array\n",
            "[1 1 1 ... 1 1 0]\n"
          ]
        }
      ]
    },
    {
      "cell_type": "code",
      "source": [
        "#Submission File\n",
        "\n",
        "sub=pd.DataFrame({'id':data_test['id'],'label':int_array})\n",
        "sub.to_csv('Submission_TremendousThree_6v37rl.csv', index=False)"
      ],
      "metadata": {
        "id": "ft4vCAMLt6zn"
      },
      "execution_count": null,
      "outputs": []
    },
    {
      "cell_type": "code",
      "source": [
        "import xgboost\n",
        "xgboost.plot_importance(xgb_main)"
      ],
      "metadata": {
        "id": "8Yd9sdyYy9Rr",
        "colab": {
          "base_uri": "https://localhost:8080/",
          "height": 312
        },
        "outputId": "23011f3b-05b1-44e3-b52b-0716a691da6e"
      },
      "execution_count": null,
      "outputs": [
        {
          "output_type": "execute_result",
          "data": {
            "text/plain": [
              "<matplotlib.axes._subplots.AxesSubplot at 0x7fa252322310>"
            ]
          },
          "metadata": {},
          "execution_count": 100
        },
        {
          "output_type": "display_data",
          "data": {
            "text/plain": [
              "<Figure size 432x288 with 1 Axes>"
            ],
            "image/png": "[encoded data removed]"
          },
          "metadata": {
            "needs_background": "light"
          }
        }
      ]
    },
    {
      "cell_type": "code",
      "source": [
        "train_x.shape"
      ],
      "metadata": {
        "colab": {
          "base_uri": "https://localhost:8080/"
        },
        "id": "YUztpdzbzT7S",
        "outputId": "026af47f-ee73-4fe3-d92a-9b6bb84d0886"
      },
      "execution_count": null,
      "outputs": [
        {
          "output_type": "execute_result",
          "data": {
            "text/plain": [
              "(22657, 33)"
            ]
          },
          "metadata": {},
          "execution_count": 95
        }
      ]
    },
    {
      "cell_type": "code",
      "source": [
        ""
      ],
      "metadata": {
        "id": "niztHnS8399l"
      },
      "execution_count": null,
      "outputs": []
    }
  ],
  "metadata": {
    "interpreter": {
      "hash": "15c3af21d4a491ade47bcde8fdf8cf04398d3c01aef90a981dd7647943737758"
    },
    "kernelspec": {
      "display_name": "Python 3.9.12 ('myenv')",
      "language": "python",
      "name": "python3"
    },
    "language_info": {
      "codemirror_mode": {
        "name": "ipython",
        "version": 3
      },
      "file_extension": ".py",
      "mimetype": "text/x-python",
      "name": "python",
      "nbconvert_exporter": "python",
      "pygments_lexer": "ipython3",
      "version": "3.9.12"
    },
    "orig_nbformat": 4,
    "colab": {
      "name": "test.ipynb",
      "provenance": [],
      "collapsed_sections": []
    }
  },
  "nbformat": 4,
  "nbformat_minor": 0
}